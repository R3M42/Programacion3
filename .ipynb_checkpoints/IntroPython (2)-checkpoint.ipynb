{
 "cells": [
  {
   "cell_type": "markdown",
   "metadata": {
    "id": "nDFR1EyKz6V9"
   },
   "source": [
    "## Primera clase de Pyton"
   ]
  },
  {
   "cell_type": "code",
   "execution_count": null,
   "metadata": {
    "colab": {
     "base_uri": "https://localhost:8080/"
    },
    "id": "bxdahWoVyjQn",
    "outputId": "9216e1fd-33e5-46e1-b54e-d117d0d73bf8"
   },
   "outputs": [],
   "source": [
    "1+90"
   ]
  },
  {
   "cell_type": "code",
   "execution_count": null,
   "metadata": {
    "colab": {
     "base_uri": "https://localhost:8080/"
    },
    "id": "8PuaGCPG1VPd",
    "outputId": "d2289c7d-4a05-4698-af1a-448f61e2629a"
   },
   "outputs": [],
   "source": [
    "1+98"
   ]
  },
  {
   "cell_type": "markdown",
   "metadata": {
    "id": "Y7fnmwb_1dvK"
   },
   "source": [
    "#Lógica de programación con Python"
   ]
  },
  {
   "cell_type": "code",
   "execution_count": null,
   "metadata": {
    "colab": {
     "base_uri": "https://localhost:8080/",
     "height": 36
    },
    "id": "_t_Kj9dy1vA5",
    "outputId": "89972013-ed01-4ebf-a110-4d288c77905b"
   },
   "outputs": [],
   "source": [
    "\"Rolando\""
   ]
  },
  {
   "cell_type": "code",
   "execution_count": null,
   "metadata": {
    "id": "EXD1p_Bp2R4d"
   },
   "outputs": [],
   "source": [
    "nombre = \"Rolando\""
   ]
  },
  {
   "cell_type": "code",
   "execution_count": null,
   "metadata": {
    "colab": {
     "base_uri": "https://localhost:8080/",
     "height": 36
    },
    "id": "ECHPXj8B2aDW",
    "outputId": "ad6b2828-253b-4512-df19-06c7d5fb628c"
   },
   "outputs": [],
   "source": [
    "nombre"
   ]
  },
  {
   "cell_type": "code",
   "execution_count": null,
   "metadata": {
    "id": "ijzZU6Rl2p10"
   },
   "outputs": [],
   "source": [
    "Edad = 19"
   ]
  },
  {
   "cell_type": "code",
   "execution_count": null,
   "metadata": {
    "colab": {
     "base_uri": "https://localhost:8080/"
    },
    "id": "n2SIt51V2wnh",
    "outputId": "b9573a7b-2720-47fc-eb2e-6e136a95092d"
   },
   "outputs": [],
   "source": [
    "Edad"
   ]
  },
  {
   "cell_type": "code",
   "execution_count": null,
   "metadata": {
    "colab": {
     "base_uri": "https://localhost:8080/"
    },
    "id": "dVAKx5IW2-Tm",
    "outputId": "06b1f124-3503-4b10-e279-0992fb799068"
   },
   "outputs": [],
   "source": [
    "print (f'El nombre es {nombre} y su edad es {Edad} años')"
   ]
  },
  {
   "cell_type": "code",
   "execution_count": null,
   "metadata": {
    "id": "X_5BS8Pv4FPb"
   },
   "outputs": [],
   "source": [
    "Edad = 20"
   ]
  },
  {
   "cell_type": "code",
   "execution_count": null,
   "metadata": {
    "colab": {
     "base_uri": "https://localhost:8080/"
    },
    "id": "PmK8XanM30N3",
    "outputId": "60cc3d63-1db1-462e-a31f-6504d2eb667d"
   },
   "outputs": [],
   "source": [
    "print (f'El nombres es{nombre} y su edad es {Edad} años')"
   ]
  },
  {
   "cell_type": "code",
   "execution_count": null,
   "metadata": {
    "colab": {
     "base_uri": "https://localhost:8080/"
    },
    "id": "ZRivu-Va1EQS",
    "outputId": "ab8e6b34-bc1a-4403-9835-d33fe230a5ba"
   },
   "outputs": [],
   "source": [
    "print (\"Brasil\", \"ganó\", 5, \"titulos mundiales\", \"de fútbol\", sep=\"-\")\n",
    "print (\"Brasil\", \"ganó\", 5, \"titulos mundiales\", \"de fútbol\", end=\"-\")"
   ]
  },
  {
   "cell_type": "code",
   "execution_count": null,
   "metadata": {
    "id": "fraltSqg3kKn"
   },
   "outputs": [],
   "source": [
    "#pais=\"Argentina\"\n",
    "#titulo=3\n",
    "pais=\"Italia\"\n",
    "titulo=4"
   ]
  },
  {
   "cell_type": "code",
   "execution_count": null,
   "metadata": {
    "colab": {
     "base_uri": "https://localhost:8080/"
    },
    "id": "rI1s6cZj3tSe",
    "outputId": "52ec04c2-f104-48e3-8d9e-69daeff407e8"
   },
   "outputs": [],
   "source": [
    "print (pais, \"ganó\", titulo, \"titulos mundiales\", \"de fútbol\", sep=\" \")"
   ]
  },
  {
   "cell_type": "markdown",
   "metadata": {
    "id": "AUHIqaNL4AZ6"
   },
   "source": [
    "##Creando mi primera función"
   ]
  },
  {
   "cell_type": "code",
   "execution_count": null,
   "metadata": {
    "id": "xCRGge_E4KZc"
   },
   "outputs": [],
   "source": [
    "def saludos():\n",
    "  nombre = input(\"¿Cual es su nombre?\")\n",
    "  print(f'Hola {nombre}')"
   ]
  },
  {
   "cell_type": "code",
   "execution_count": null,
   "metadata": {
    "colab": {
     "base_uri": "https://localhost:8080/"
    },
    "id": "I0Yu43xY5dA_",
    "outputId": "512cc853-5f88-42e9-e37d-83d992375d64"
   },
   "outputs": [],
   "source": [
    "saludos()"
   ]
  },
  {
   "cell_type": "markdown",
   "metadata": {
    "id": "uui0iQjf5xaU"
   },
   "source": [
    "##Parametros"
   ]
  },
  {
   "cell_type": "code",
   "execution_count": null,
   "metadata": {
    "id": "8UaOgkky50kP"
   },
   "outputs": [],
   "source": [
    "nombre = 'Karla'"
   ]
  },
  {
   "cell_type": "code",
   "execution_count": null,
   "metadata": {
    "id": "k-x2mICR6E7P"
   },
   "outputs": [],
   "source": [
    "def saludos_con_parametros (nombre_de_la_persona):\n",
    "  print(f'Hola {nombre_de_la_persona}')"
   ]
  },
  {
   "cell_type": "code",
   "execution_count": null,
   "metadata": {
    "colab": {
     "base_uri": "https://localhost:8080/"
    },
    "id": "aOioN5lt6VlB",
    "outputId": "7e36644b-3f98-404b-ccb8-394fd7d1775e"
   },
   "outputs": [],
   "source": [
    "saludos_con_parametros(nombre)"
   ]
  },
  {
   "cell_type": "markdown",
   "metadata": {
    "id": "5HnL5DCn6pDH"
   },
   "source": [
    "##Condicional"
   ]
  },
  {
   "cell_type": "code",
   "execution_count": null,
   "metadata": {
    "colab": {
     "base_uri": "https://localhost:8080/"
    },
    "id": "Wl6VQD9I6rRO",
    "outputId": "6551cc61-d07a-4908-ff1c-9929542281ad"
   },
   "outputs": [],
   "source": [
    "Edad = 18\n",
    "def verifica_si_puede_conducir(Edad):\n",
    "  if Edad >=18:\n",
    "    print('Tiene autorizacion para conducir')\n",
    "  else:\n",
    "      print('No tiene autorizacion para conducir')\n",
    "\n",
    "verifica_si_puede_conducir(Edad)"
   ]
  },
  {
   "cell_type": "markdown",
   "metadata": {
    "id": "8rjHGT488lwT"
   },
   "source": [
    "##Convirtiendo tipo entero"
   ]
  },
  {
   "cell_type": "code",
   "execution_count": null,
   "metadata": {
    "colab": {
     "base_uri": "https://localhost:8080/"
    },
    "id": "FBXijNUt8pIm",
    "outputId": "6c2d4e81-8f58-4464-9bcb-a56f4911da0f"
   },
   "outputs": [],
   "source": [
    "def verifica_si_puede_conducir_sin_parametros():\n",
    "  edad = input ('¿Cual es su edad?')\n",
    "  edad = int(edad)\n",
    "  if edad >= 18:\n",
    "    print('Tiene autorizacion para conducir')\n",
    "  else:\n",
    "      print('No tiene autorizacion para conducir')\n",
    "\n",
    "verifica_si_puede_conducir_sin_parametros()"
   ]
  },
  {
   "cell_type": "markdown",
   "metadata": {
    "id": "BGy-UZt6_AOB"
   },
   "source": [
    "#Lista"
   ]
  },
  {
   "cell_type": "code",
   "execution_count": null,
   "metadata": {
    "colab": {
     "base_uri": "https://localhost:8080/"
    },
    "id": "Riax0chP_CNO",
    "outputId": "31a34049-48b2-485a-a17d-54b9f0d001e5"
   },
   "outputs": [],
   "source": [
    "edad = 22\n",
    "edad"
   ]
  },
  {
   "cell_type": "code",
   "execution_count": null,
   "metadata": {
    "colab": {
     "base_uri": "https://localhost:8080/"
    },
    "id": "u6yEjL9d_Zfv",
    "outputId": "3a8fc869-aac4-4222-86d0-72fdcc59390a"
   },
   "outputs": [],
   "source": [
    "type(edad)"
   ]
  },
  {
   "cell_type": "code",
   "execution_count": null,
   "metadata": {
    "colab": {
     "base_uri": "https://localhost:8080/"
    },
    "id": "dmwSmawS_uJc",
    "outputId": "5054e659-63a4-4b55-b773-a7181884808c"
   },
   "outputs": [],
   "source": [
    "nombre = 'Gabito'\n",
    "type(nombre)"
   ]
  },
  {
   "cell_type": "code",
   "execution_count": null,
   "metadata": {
    "colab": {
     "base_uri": "https://localhost:8080/"
    },
    "id": "fjriiYFP_9dH",
    "outputId": "771eccd7-c34e-4bf2-e8b0-8ebac23c6450"
   },
   "outputs": [],
   "source": [
    "edades = [18, 22, 15, 50]\n",
    "type(edades)"
   ]
  },
  {
   "cell_type": "code",
   "execution_count": null,
   "metadata": {
    "colab": {
     "base_uri": "https://localhost:8080/"
    },
    "id": "odDO_1RVAUOP",
    "outputId": "327bfe93-c70a-48ce-d769-687497343e5f"
   },
   "outputs": [],
   "source": [
    "edades[2]"
   ]
  },
  {
   "cell_type": "code",
   "execution_count": null,
   "metadata": {
    "id": "m6zVZOb-Az9Y"
   },
   "outputs": [],
   "source": [
    "edades = [18, 22, 15, 50]\n",
    "#         0   1   2   3\n",
    "#         0  -3  -2  -1"
   ]
  },
  {
   "cell_type": "code",
   "execution_count": null,
   "metadata": {
    "colab": {
     "base_uri": "https://localhost:8080/"
    },
    "id": "1U9r2Zy6BWAf",
    "outputId": "1ecd74f2-5ca9-482a-ec16-3735f9a19248"
   },
   "outputs": [],
   "source": [
    "edades[-3]"
   ]
  },
  {
   "cell_type": "code",
   "execution_count": null,
   "metadata": {
    "colab": {
     "base_uri": "https://localhost:8080/"
    },
    "id": "qnWNxDX-Boem",
    "outputId": "4e07ccee-ee0a-4b15-8ac8-4eed806cf429"
   },
   "outputs": [],
   "source": [
    "edades[0:3]"
   ]
  },
  {
   "cell_type": "code",
   "execution_count": null,
   "metadata": {
    "colab": {
     "base_uri": "https://localhost:8080/"
    },
    "id": "ZRpLJkdMB-7j",
    "outputId": "0b0a17fa-1b84-48ed-86b5-9d4bd23c5a2a"
   },
   "outputs": [],
   "source": [
    "edades[1:]"
   ]
  },
  {
   "cell_type": "markdown",
   "metadata": {
    "id": "Uj_iJo9JCbYj"
   },
   "source": [
    "##Lazos y loops"
   ]
  },
  {
   "cell_type": "code",
   "execution_count": null,
   "metadata": {
    "colab": {
     "base_uri": "https://localhost:8080/"
    },
    "id": "k1c3zBeKCa1B",
    "outputId": "6ee8374d-5ca1-4e10-bddd-3f3bd9da610d"
   },
   "outputs": [],
   "source": [
    "edades"
   ]
  },
  {
   "cell_type": "code",
   "execution_count": null,
   "metadata": {
    "colab": {
     "base_uri": "https://localhost:8080/"
    },
    "id": "eN9VwCcIDc0K",
    "outputId": "ec55113a-ba16-4ef9-9dfe-19f89c26df8c"
   },
   "outputs": [],
   "source": [
    "#for fuera de la funcion\n",
    "\n",
    "def verifica_si_puede_conducir(edad):\n",
    "  if edad >= 18:\n",
    "    print(f\"{edad} años de edad, Tiene autorizacion para conducir\")\n",
    "  else:\n",
    "    print(f\"{edad} años de edad, No tiene autorizacion para conducir\")\n",
    "\n",
    "for edad in edades:\n",
    "  verifica_si_puede_conducir(edad)"
   ]
  },
  {
   "cell_type": "code",
   "execution_count": null,
   "metadata": {
    "colab": {
     "base_uri": "https://localhost:8080/"
    },
    "id": "iX3bLXuSExE2",
    "outputId": "c1823e77-619e-42c9-ced7-c466f73b7310"
   },
   "outputs": [],
   "source": [
    "def verifica_si_puede_conducir(edad):\n",
    "  for edad in edades:\n",
    "    if edad >= 18:\n",
    "      print(f\"{edad} años de edad, Tiene autorizacion para conducir\")\n",
    "    else:\n",
    "      print(f\"{edad} años de edad, No tiene autorizacion para conducir\")\n",
    "\n",
    "verifica_si_puede_conducir(edades)"
   ]
  },
  {
   "cell_type": "markdown",
   "metadata": {
    "id": "lyMaelQCFg39"
   },
   "source": [
    "##Booleano"
   ]
  },
  {
   "cell_type": "code",
   "execution_count": null,
   "metadata": {
    "colab": {
     "base_uri": "https://localhost:8080/"
    },
    "id": "l-93nU35FqpC",
    "outputId": "9772bbc8-f80c-4d85-da6f-fa18c256f3dd"
   },
   "outputs": [],
   "source": [
    "edad = 18\n",
    "edad >= 18"
   ]
  },
  {
   "cell_type": "code",
   "execution_count": null,
   "metadata": {
    "colab": {
     "base_uri": "https://localhost:8080/"
    },
    "id": "CtwYofLaF-B-",
    "outputId": "5d169dbc-4ee5-4f48-d431-c65dacec8d01"
   },
   "outputs": [],
   "source": [
    "edad = 12\n",
    "edad >= 18"
   ]
  },
  {
   "cell_type": "code",
   "execution_count": null,
   "metadata": {
    "id": "qw-PHDbwGAU-"
   },
   "outputs": [],
   "source": [
    "autorizaciones = []\n",
    "edades = [20, 14, 40]\n",
    "\n",
    "def verifica_si_puede_conducir(edades, autorizaciones):\n",
    "  for edad in edades:\n",
    "    if edad >=18:\n",
    "      autorizaciones.append(True)\n",
    "#append es agregar el valor\n",
    "    else:\n",
    "      autorizaciones.append(False)\n",
    "\n",
    "verifica_si_puede_conducir(edades, autorizaciones)"
   ]
  },
  {
   "cell_type": "code",
   "execution_count": null,
   "metadata": {
    "colab": {
     "base_uri": "https://localhost:8080/"
    },
    "id": "LpZ2ukPrHKUO",
    "outputId": "5d523a3e-0c0a-4372-9e59-1289b2079725"
   },
   "outputs": [],
   "source": [
    "autorizaciones"
   ]
  },
  {
   "cell_type": "code",
   "execution_count": null,
   "metadata": {
    "colab": {
     "base_uri": "https://localhost:8080/"
    },
    "id": "ZdEXXwC3HYQf",
    "outputId": "51e8f6f3-f4ca-4fa0-a0c6-60ec75f3bc6e"
   },
   "outputs": [],
   "source": [
    "for autorizacion in autorizaciones:\n",
    "  if autorizacion == True:\n",
    "    print(\"Tiene autorizacion para conducir\")\n",
    "  else:\n",
    "    print(\"No tiene autorizacion para conducir\")"
   ]
  },
  {
   "cell_type": "markdown",
   "metadata": {
    "id": "4H9bYUB5H7aA"
   },
   "source": [
    "##Tipos en una lista"
   ]
  },
  {
   "cell_type": "code",
   "execution_count": null,
   "metadata": {
    "colab": {
     "base_uri": "https://localhost:8080/"
    },
    "id": "O1FgUY3kH9GL",
    "outputId": "2b079aba-c37f-4565-fe61-1ba25d541011"
   },
   "outputs": [],
   "source": [
    "lista = [\"Mauricio\", 28, True, \"18\"]\n",
    "\n",
    "for elemento in lista:\n",
    "  print(f\"El elemento {elemento} es del tipo: \", type(elemento))\n",
    "\n"
   ]
  },
  {
   "cell_type": "markdown",
   "metadata": {
    "id": "OlDE1iK6Iu4W"
   },
   "source": [
    "##Import"
   ]
  },
  {
   "cell_type": "code",
   "execution_count": null,
   "metadata": {
    "id": "z6qkPnHaIwa0"
   },
   "outputs": [],
   "source": [
    "from random import randrange, seed"
   ]
  },
  {
   "cell_type": "code",
   "execution_count": null,
   "metadata": {
    "id": "GlK-qgYXI88L"
   },
   "outputs": [],
   "source": [
    "seed(11)"
   ]
  },
  {
   "cell_type": "code",
   "execution_count": null,
   "metadata": {
    "colab": {
     "base_uri": "https://localhost:8080/"
    },
    "id": "pQ1d1QHwJCCp",
    "outputId": "581018d5-f0c0-4b25-947b-917b79ca301e"
   },
   "outputs": [],
   "source": [
    "randrange(0,11)"
   ]
  },
  {
   "cell_type": "code",
   "execution_count": null,
   "metadata": {
    "colab": {
     "base_uri": "https://localhost:8080/"
    },
    "id": "QfJSPYn_J0M2",
    "outputId": "3252eb17-56fa-44d6-ce8c-a20d4823374b"
   },
   "outputs": [],
   "source": [
    "notas_matematica = []\n",
    "\n",
    "for notas in range (8):\n",
    "  notas_matematica.append(randrange(0,11))\n",
    "\n",
    "notas_matematica"
   ]
  },
  {
   "cell_type": "code",
   "execution_count": null,
   "metadata": {
    "colab": {
     "base_uri": "https://localhost:8080/"
    },
    "id": "sQa_gT_7Kkwo",
    "outputId": "4b47e5f5-864f-47c7-b588-e5a33ddcc2d2"
   },
   "outputs": [],
   "source": [
    "len(notas_matematica)"
   ]
  },
  {
   "cell_type": "markdown",
   "metadata": {
    "id": "xVlAKYjuKfCG"
   },
   "source": [
    "##Matplotlib"
   ]
  },
  {
   "cell_type": "code",
   "execution_count": null,
   "metadata": {
    "id": "rBiTcRXdKqzt"
   },
   "outputs": [],
   "source": [
    "import matplotlib.pyplot as plt"
   ]
  },
  {
   "cell_type": "code",
   "execution_count": null,
   "metadata": {
    "colab": {
     "base_uri": "https://localhost:8080/",
     "height": 472
    },
    "id": "X68OY2VILHJC",
    "outputId": "b1913e54-5779-4670-c2d6-1140a3747912"
   },
   "outputs": [],
   "source": [
    "x = list(range(1,9))\n",
    "y = notas_matematica\n",
    "#plt.plot(x, y, marker=\"o\")\n",
    "plt.bar(x, y)\n",
    "plt.title(\"Notas de matematica\")\n",
    "plt.xlabel(\"Exámenes\")\n",
    "plt.ylabel(\"Notas\")\n",
    "plt.show()"
   ]
  },
  {
   "cell_type": "markdown",
   "metadata": {
    "id": "7CtzVqIo4nAc"
   },
   "source": [
    "##Práctica de juego dinamico 08 08 2023"
   ]
  },
  {
   "cell_type": "code",
   "execution_count": null,
   "metadata": {
    "colab": {
     "base_uri": "https://localhost:8080/"
    },
    "id": "tQ2CHFWQ4mrN",
    "outputId": "27ade583-b1fb-43bb-f517-9c9ebc474b7a"
   },
   "outputs": [],
   "source": [
    "print(\"°°°°°°°°°°°°°°°°°°°°°°°°°°°°°°°°°\")\n",
    "print(\"Bienvenido al juego de adivinanza\")\n",
    "print(\"°°°°°°°°°°°°°°°°°°°°°°°°°°°°°°°°°\")\n",
    "\n",
    "numero_secreto=42\n",
    "\n",
    "entrada= int(input(\"Digite un número \"))\n",
    "\n",
    "print(\"Digitaste...\", entrada)\n",
    "\n",
    "if(entrada==numero_secreto):\n",
    "  print(\"Felicitaciones !!! ... adivinaste el número\")\n",
    "else:\n",
    "  print(\"Lo siento ... no lograste adivinar el número\")\n",
    "\n",
    "print(\"Fin del juego\")\n"
   ]
  },
  {
   "cell_type": "markdown",
   "metadata": {
    "id": "MKHHNzId7KIu"
   },
   "source": [
    "##Comparación si las variables son del mismo tipo"
   ]
  },
  {
   "cell_type": "code",
   "execution_count": null,
   "metadata": {
    "colab": {
     "base_uri": "https://localhost:8080/"
    },
    "id": "ehyav8Pj7N7h",
    "outputId": "b514173d-a789-416c-cbad-40ef6122717f"
   },
   "outputs": [],
   "source": [
    "type(numero_secreto)"
   ]
  },
  {
   "cell_type": "markdown",
   "metadata": {
    "id": "2mhNAr8V7rqm"
   },
   "source": [
    "##Guiar al usuario si el número ingresado fue mayor o menor al número que se tiene que adivinar"
   ]
  },
  {
   "cell_type": "code",
   "execution_count": null,
   "metadata": {
    "colab": {
     "base_uri": "https://localhost:8080/"
    },
    "id": "3d2E4Pp_7zCi",
    "outputId": "f72b5e22-ce77-4a6b-8975-14a9c343056d"
   },
   "outputs": [],
   "source": [
    "print(\"°°°°°°°°°°°°°°°°°°°°°°°°°°°°°°°°°\")\n",
    "print(\"Bienvenido al juego de adivinanza\")\n",
    "print(\"°°°°°°°°°°°°°°°°°°°°°°°°°°°°°°°°°\")\n",
    "\n",
    "numero_secreto=42\n",
    "\n",
    "entrada= int(input(\"Digite un número \"))\n",
    "\n",
    "print(\"Digitaste...\", entrada)\n",
    "\n",
    "acertaste=entrada==numero_secreto #Iguales\n",
    "mayor=entrada>numero_secreto #Entrada es mayor\n",
    "menor=entrada<numero_secreto #Entrada es menor\n",
    "\n",
    "if(acertaste):\n",
    "  print(\"Felicitaciones !!! ... adivinaste el número\")\n",
    "elif(mayor):\n",
    "  print(\"Lo siento ... el número que ingresaste es mayor que el secreto\")\n",
    "else:\n",
    "  print(\"Lo siento ... el número que ingresaste es menor que el secreto\")\n",
    "\n",
    "print(\"Fin del juego\")"
   ]
  },
  {
   "cell_type": "code",
   "execution_count": null,
   "metadata": {
    "colab": {
     "base_uri": "https://localhost:8080/"
    },
    "id": "ZolJ1jr2-b2m",
    "outputId": "52584128-7f63-4cd2-81ba-0236f44a7485"
   },
   "outputs": [],
   "source": [
    "##Ahora con while\n",
    "numero_secreto=42\n",
    "total_intentos=6\n",
    "iteracion=1\n",
    "\n",
    "while(iteracion<=total_intentos):\n",
    "  print(\"Intento: \",iteracion,\" de\",total_intentos)\n",
    "  entrada=input(\"Digite un número \")\n",
    "  entrada=int(entrada)\n",
    "  print(\"Digitaste ... \", entrada)\n",
    "\n",
    "  acertaste=entrada==numero_secreto #Iguales\n",
    "  mayor=entrada>numero_secreto #Entrada es mayor\n",
    "  menor=entrada<numero_secreto #Entrada es menor\n",
    "\n",
    "  if(acertaste):\n",
    "    print(\"Felicitaciones, adivinaste el número\")\n",
    "    print()\n",
    "    break\n",
    "  elif(mayor):\n",
    "    print(\"Lo siento, el número que ingresaste es mayor al secreto\")\n",
    "    print()\n",
    "  else:\n",
    "    print(\"Lo siento, el número que ingresaste es menor al secreto\")\n",
    "    print()\n",
    "\n",
    "  iteracion = iteracion + 1\n",
    "print(\"Fin del juego\")\n"
   ]
  },
  {
   "cell_type": "markdown",
   "metadata": {
    "id": "FvfVvKSyCPi2"
   },
   "source": [
    "##Mejorando aún el código.....formateando los strings"
   ]
  },
  {
   "cell_type": "code",
   "execution_count": null,
   "metadata": {
    "id": "p_cyZj0eCT5v"
   },
   "outputs": [],
   "source": [
    "print(\"°°°°°°°°°°°°°°°°°°°°°°°°°°°°°°°°°\")\n",
    "print(\"Bienvenido al juego de adivinanza\")\n",
    "print(\"°°°°°°°°°°°°°°°°°°°°°°°°°°°°°°°°°\")\n",
    "numero_secreto=42\n",
    "total_intentos=6\n",
    "iteracion=1\n",
    "\n",
    "while(iteracion<=total_intentos):\n",
    "  print(\"Intento: {} de {}\".format(iteracion,total_intentos))\n",
    "  entrada=input(\"Digite un número \")\n",
    "  entrada=int(entrada)\n",
    "  print(\"Digitaste ... \", entrada)\n",
    "\n",
    "  acertaste=entrada==numero_secreto #Iguales\n",
    "  mayor=entrada>numero_secreto #Entrada es mayor\n",
    "  menor=entrada<numero_secreto #Entrada es menor\n",
    "\n",
    "  if(acertaste):\n",
    "    print(\"Felicitaciones, adivinaste el número\")\n",
    "    print()\n",
    "    break\n",
    "  elif(mayor):\n",
    "    print(\"Lo siento, el número que ingresaste es mayor al secreto\")\n",
    "    print()\n",
    "  else:\n",
    "    print(\"Lo siento, el número que ingresaste es menor al secreto\")\n",
    "    print()\n",
    "\n",
    "  iteracion = iteracion + 1\n",
    "print(\"Fin del juego\")\n"
   ]
  },
  {
   "cell_type": "markdown",
   "metadata": {
    "id": "Qd-3DWQEDi2l"
   },
   "source": [
    "###Utilizando otra sentencia para LOOPS    for i range(n1, n2, n3) y controlar que el número ingresado sea positivo y si adivinó del total de intentos, para el juego"
   ]
  },
  {
   "cell_type": "code",
   "execution_count": null,
   "metadata": {
    "colab": {
     "base_uri": "https://localhost:8080/"
    },
    "id": "1SzGCHSJEyY5",
    "outputId": "70895779-ad0b-44ef-ab86-fbf61eac0b45"
   },
   "outputs": [],
   "source": [
    "for i in range(1, 10, 2):\n",
    "  print(i)"
   ]
  },
  {
   "cell_type": "code",
   "execution_count": null,
   "metadata": {
    "colab": {
     "base_uri": "https://localhost:8080/"
    },
    "id": "z--HubbOF8TC",
    "outputId": "b7f2abfc-b6ec-46ca-b275-36d01fb79fc3"
   },
   "outputs": [],
   "source": [
    "for i in range(20, 4, -2):\n",
    "  print(i)"
   ]
  },
  {
   "cell_type": "code",
   "execution_count": null,
   "metadata": {
    "colab": {
     "base_uri": "https://localhost:8080/"
    },
    "id": "yXbPGOEQD32O",
    "outputId": "10c5a269-2518-4634-d3bd-15a75c860db0"
   },
   "outputs": [],
   "source": [
    "print(\"°°°°°°°°°°°°°°°°°°°°°°°°°°°°°°°°°\")\n",
    "print(\"Bienvenido al juego de adivinanza\")\n",
    "print()\n",
    "print(\"°°°°°°°°°°°°°°°°°°°°°°°°°°°°°°°°°\")\n",
    "\n",
    "numero_secreto=77\n",
    "total_intentos=6\n",
    "iteracion=1\n",
    "\n",
    "for iteraccion in range (1, total_intentos +1):\n",
    "  print(\"Intento: {} de {} \" .format(iteraccion,total_intentos))\n",
    "  entrada=input(\"Digite un número \")\n",
    "  entrada=int ( entrada)\n",
    "  print(\"Digitaste ... \", entrada)\n",
    "  if(entrada < 1 or entrada > 100):\n",
    "    print('Ingrese un numero entre 1 y 100')\n",
    "    continue\n",
    "\n",
    "  acertaste=entrada==numero_secreto #Iguales\n",
    "  mayor=entrada>numero_secreto #Entrada es mayor\n",
    "  menor=entrada<numero_secreto #Entrada es menor\n",
    "\n",
    "  if(acertaste):\n",
    "    print(\"Felicitaciones, adivinaste el número\")\n",
    "    break\n",
    "  elif(mayor):\n",
    "    print(\"Lo siento, el número que ingresaste es mayor al secreto\")\n",
    "  else:\n",
    "    print(\"Lo siento, el número que ingresaste es menor al secreto\")\n",
    "\n",
    "  iteracion = iteracion + 1\n",
    "print(\"Fin del juego\")"
   ]
  },
  {
   "cell_type": "markdown",
   "metadata": {
    "id": "4TkOE-CDH_LO"
   },
   "source": [
    "##Generar un número aleatorio"
   ]
  },
  {
   "cell_type": "code",
   "execution_count": null,
   "metadata": {
    "colab": {
     "base_uri": "https://localhost:8080/"
    },
    "id": "dWcvyug0ICPI",
    "outputId": "e887fb2a-863a-4354-f5fc-1a838ee5ce89"
   },
   "outputs": [],
   "source": [
    "##Generar número random\n",
    "import random\n",
    "random.random()"
   ]
  },
  {
   "cell_type": "code",
   "execution_count": null,
   "metadata": {
    "colab": {
     "base_uri": "https://localhost:8080/"
    },
    "id": "CkAuzJgnI9_r",
    "outputId": "9ec01084-51c7-4000-adb2-3e009e23c516"
   },
   "outputs": [],
   "source": [
    "##Generar número random entre 0 y 100\n",
    "numero_random=random.random()*100\n",
    "numero_random"
   ]
  },
  {
   "cell_type": "code",
   "execution_count": null,
   "metadata": {
    "colab": {
     "base_uri": "https://localhost:8080/"
    },
    "id": "uJk4TA2dJKHl",
    "outputId": "e69edd4b-ebe8-43ff-a6fb-1b6f9e0678d8"
   },
   "outputs": [],
   "source": [
    "##Generar número random entre 0 y 100\n",
    "numero_random=round(random.random()*100)\n",
    "numero_random"
   ]
  },
  {
   "cell_type": "code",
   "execution_count": null,
   "metadata": {
    "colab": {
     "base_uri": "https://localhost:8080/"
    },
    "id": "SMG_jUJOJ2U3",
    "outputId": "16d8dad5-5ddb-4d76-edf7-08d187dd1e90"
   },
   "outputs": [],
   "source": [
    "##Rango en random\n",
    "numero_random=random.randrange(1,101)\n",
    "numero_random"
   ]
  },
  {
   "cell_type": "markdown",
   "metadata": {
    "id": "o7-x1ZLfKIgC"
   },
   "source": [
    "##Mejorando el código del juego, con número aleatorio"
   ]
  },
  {
   "cell_type": "code",
   "execution_count": null,
   "metadata": {
    "colab": {
     "base_uri": "https://localhost:8080/"
    },
    "id": "-V2JUlU1KHpl",
    "outputId": "68241635-ebf8-44c5-ff66-40e6f095d1f8"
   },
   "outputs": [],
   "source": [
    "import random\n",
    "print(\"°°°°°°°°°°°°°°°°°°°°°°°°°°°°°°°°°\")\n",
    "print(\"Bienvenido al juego de adivinanza\")\n",
    "print()\n",
    "print(\"°°°°°°°°°°°°°°°°°°°°°°°°°°°°°°°°°\")\n",
    "\n",
    "numero_secreto=random.randrange(1,101)\n",
    "total_intentos=15\n",
    "\n",
    "for iteracion in range (1, total_intentos +1):\n",
    "  print(\"Intento: {} de {}\".format(iteracion,total_intentos))\n",
    "  entrada=input(\"Digite un número entre 1 y 100\")\n",
    "  entrada=int(entrada)\n",
    "  print(\"Digitaste...\",entrada)\n",
    "  if(entrada<1 or entrada>100):\n",
    "    print(\"Ingresar un número entre 1 y 100\")\n",
    "    continue\n",
    "\n",
    "  acertaste=entrada==numero_secreto #Iguales\n",
    "  mayor=entrada>numero_secreto #Entrada es mayor\n",
    "  menor=entrada<numero_secreto #Entrada es menor\n",
    "\n",
    "  if(acertaste):\n",
    "    print(\"Felicitaciones, adivinaste el número\")\n",
    "    break\n",
    "  elif(mayor):\n",
    "    print(\"Lo siento, el número que ingresaste es mayor al secreto\")\n",
    "  else:\n",
    "    print(\"Lo siento, el número que ingresaste es menor al secreto\")\n",
    "\n",
    "\n",
    "print(\"Fin del juego\")"
   ]
  },
  {
   "cell_type": "markdown",
   "metadata": {
    "id": "NFpTKY7vMutF"
   },
   "source": [
    "##Definiendo la dificultad en el código"
   ]
  },
  {
   "cell_type": "code",
   "execution_count": null,
   "metadata": {
    "colab": {
     "base_uri": "https://localhost:8080/"
    },
    "id": "qA3vpR3pMzHA",
    "outputId": "73590f5e-23e5-47b4-f728-ab0309f3f715"
   },
   "outputs": [],
   "source": [
    "import random\n",
    "print(\"°°°°°°°°°°°°°°°°°°°°°°°°°°°°°°°°°\")\n",
    "print(\"Bienvenido al juego de adivinanza\")\n",
    "print()\n",
    "print(\"°°°°°°°°°°°°°°°°°°°°°°°°°°°°°°°°°\")\n",
    "\n",
    "numero_secreto=random.randrange(1,101)\n",
    "\n",
    "print(\"Seleccione el nivel de dificultad\")\n",
    "print(\"(1) Fácil (2) Medio (3) Dificil\")\n",
    "\n",
    "nivel = int(input(\"Ingrese nivel de dificultad: \"))\n",
    "if(nivel==1):\n",
    "  total_intentos = 20\n",
    "elif(nivel==2):\n",
    "  total_intentos = 10\n",
    "else:\n",
    "  total_intentos = 5\n",
    "\n",
    "for iteracion in range (1, total_intentos +1):\n",
    "  print(\"Intento: {} de {}\".format(iteracion,total_intentos))\n",
    "  entrada=input(\"Digite un número entre 1 y 100\")\n",
    "  entrada=int(entrada)\n",
    "  print(\"Digitaste...\",entrada)\n",
    "  if(entrada<1 or entrada>100):\n",
    "    print(\"Ingresar un número entre 1 y 100: \")\n",
    "    continue\n",
    "\n",
    "  acertaste=entrada==numero_secreto #Iguales\n",
    "  mayor=entrada>numero_secreto #Entrada es mayor\n",
    "  menor=entrada<numero_secreto #Entrada es menor\n",
    "\n",
    "  if(acertaste):\n",
    "    print(\"Felicitaciones, adivinaste el número\")\n",
    "    break\n",
    "  elif(mayor):\n",
    "    print(\"Lo siento, el número que ingresaste es mayor al secreto\")\n",
    "  else:\n",
    "    print(\"Lo siento, el número que ingresaste es menor al secreto\")\n",
    "\n",
    "\n",
    "\n",
    "print(\"Fin del juego\")\n"
   ]
  },
  {
   "cell_type": "markdown",
   "metadata": {
    "id": "XwSe2xesO96K"
   },
   "source": [
    "####Puntos para el juego"
   ]
  },
  {
   "cell_type": "code",
   "execution_count": null,
   "metadata": {
    "colab": {
     "base_uri": "https://localhost:8080/"
    },
    "id": "cANSkwidPAvK",
    "outputId": "d7d5e760-c9a8-40cf-fa6b-28613e9edd63"
   },
   "outputs": [],
   "source": [
    "puntos_perdidos=abs(50-70)\n",
    "puntos_perdidos"
   ]
  },
  {
   "cell_type": "code",
   "execution_count": null,
   "metadata": {
    "colab": {
     "base_uri": "https://localhost:8080/"
    },
    "id": "In7XsBBWP-YZ",
    "outputId": "50bab1d5-7001-4944-c96a-44b9efe94a93"
   },
   "outputs": [],
   "source": [
    "import random\n",
    "print(\"°°°°°°°°°°°°°°°°°°°°°°°°°°°°°°°°°\")\n",
    "print(\"Bienvenido al juego de adivinanza\")\n",
    "print()\n",
    "print(\"°°°°°°°°°°°°°°°°°°°°°°°°°°°°°°°°°\")\n",
    "\n",
    "numero_secreto=random.randrange(1,101)\n",
    "puntaje=1000\n",
    "\n",
    "print(\"Seleccione el nivel de dificultad\")\n",
    "print(\"(1) Fácil (2) Medio (3) Dificil\")\n",
    "\n",
    "nivel = int(input(\"Ingrese nivel de dificultad: \"))\n",
    "if(nivel==1):\n",
    "  total_intentos = 20\n",
    "elif(nivel==2):\n",
    "  total_intentos = 10\n",
    "else:\n",
    "  total_intentos = 5\n",
    "\n",
    "for iteracion in range (1, total_intentos +1):\n",
    "  print(\"Intento: {} de {}\".format(iteracion,total_intentos))\n",
    "  entrada=input(\"Digite un número entre 1 y 100\")\n",
    "  entrada=int(entrada)\n",
    "  print(\"Digitaste...\",entrada)\n",
    "  if(entrada<1 or entrada>100):\n",
    "    print(\"Ingresar un número entre 1 y 100: \")\n",
    "    continue\n",
    "\n",
    "  acertaste=entrada==numero_secreto #Iguales\n",
    "  mayor=entrada>numero_secreto #Entrada es mayor\n",
    "  menor=entrada<numero_secreto #Entrada es menor\n",
    "\n",
    "  if(acertaste):\n",
    "    print(\"Felicitaciones, adivinaste el número y ganaste {} puntos\".format(puntaje))\n",
    "    break\n",
    "  elif(mayor):\n",
    "    print(\"Lo siento, el número que ingresaste es mayor al secreto\")\n",
    "  else:\n",
    "    print(\"Lo siento, el número que ingresaste es menor al secreto\")\n",
    "\n",
    "  puntos_perdidos=abs(numero_secreto-entrada)\n",
    "  puntaje=puntaje-puntos_perdidos\n",
    "\n",
    "print(\"Fin del juego\")\n"
   ]
  },
  {
   "cell_type": "markdown",
   "metadata": {},
   "source": [
    "# Juego del ahorcado clase 15/08/23"
   ]
  },
  {
   "cell_type": "code",
   "execution_count": null,
   "metadata": {},
   "outputs": [],
   "source": [
    "print(\"°°°°°°°°°°°°°°°°°°°°°°°°°°°°°°°°°°\")\n",
    "print(\"Bienvenido al juego del ahorcado\")\n",
    "print(\"°°°°°°°°°°°°°°°°°°°°°°°°°°°°°°°°°°\")\n",
    "\n",
    "print(\"Fin del juego\")"
   ]
  },
  {
   "cell_type": "markdown",
   "metadata": {},
   "source": [
    "# Crear set de juegos"
   ]
  },
  {
   "cell_type": "code",
   "execution_count": null,
   "metadata": {},
   "outputs": [],
   "source": [
    "import ahorcado\n",
    "import adivinanza\n",
    "\n",
    "print(\"°°°°°°°°°°°°°°°°°°°°°°°°°\")\n",
    "print(\"Elija su juego\")\n",
    "print(\"°°°°°°°°°°°°°°°°°°°°°°°°°\")\n",
    "\n",
    "print(\"(1) Ahorcado (2) Adivinanza\")\n",
    "\n",
    "juego = int(input(\"Seleccione el juego:  \"))\n",
    "\n",
    "if(juego==1):\n",
    "    print(\"Ahorcado\")\n",
    "elif(juego==2):\n",
    "    print(\"Jugando adivinanza\")"
   ]
  },
  {
   "cell_type": "markdown",
   "metadata": {},
   "source": [
    "## Clase 29/08/23"
   ]
  },
  {
   "cell_type": "code",
   "execution_count": null,
   "metadata": {},
   "outputs": [],
   "source": [
    "def jugar():\n",
    "    print (\"°°°°°°°°°°°°°°°°°°°°°°°°°°°°°°°°°°°\")\n",
    "    print (\"Bienvenido al juego del ahorcado\")\n",
    "    print (\"°°°°°°°°°°°°°°°°°°°°°°°°°°°°°°°°°°°\")\n",
    "    \n",
    "    palabra_secreta = \"mandarina\"\n",
    "    \n",
    "    ahorcado = False\n",
    "    acerto = False\n",
    "    \n",
    "    while(not ahorcado and not acerto):\n",
    "        print(\"Jugando....\")\n",
    "        \n",
    "        \n",
    "    print(\"Fin del juego\")\n",
    "    \n",
    "if(__name__ == \"__main__\"):\n",
    "    jugar()"
   ]
  },
  {
   "cell_type": "code",
   "execution_count": null,
   "metadata": {},
   "outputs": [],
   "source": [
    "def jugar():\n",
    "    print (\"°°°°°°°°°°°°°°°°°°°°°°°°°°°°°°°°°°°\")\n",
    "    print (\"Bienvenido al juego del ahorcado\")\n",
    "    print (\"°°°°°°°°°°°°°°°°°°°°°°°°°°°°°°°°°°°\")\n",
    "    \n",
    "    palabra_secreta = \"mandarina\"\n",
    "    \n",
    "    ahorcado = False\n",
    "    acerto = False\n",
    "    \n",
    "    while(not ahorcado and not acerto):\n",
    "        entrada = input(\"Ingrese una letra: \")\n",
    "        for letra in palabra_secreta:\n",
    "            if(entrada==letra):\n",
    "                print(entrada)\n",
    "                \n",
    "        print(\"Jugando....\")\n",
    "        \n",
    "        \n",
    "    print(\"Fin del juego\")\n",
    "    \n",
    "if(__name__ == \"__main__\"):\n",
    "    jugar()"
   ]
  },
  {
   "cell_type": "markdown",
   "metadata": {},
   "source": [
    "# Para diferentes letras"
   ]
  },
  {
   "cell_type": "code",
   "execution_count": null,
   "metadata": {},
   "outputs": [],
   "source": [
    "palabra = \"mandarina\"\n",
    "palabra.capitalize() #Convierte la primera letra en mayíusucla"
   ]
  },
  {
   "cell_type": "code",
   "execution_count": null,
   "metadata": {},
   "outputs": [],
   "source": [
    "palabra.endswith(\"na\") #Busca una sub cadena al final,"
   ]
  },
  {
   "cell_type": "code",
   "execution_count": null,
   "metadata": {},
   "outputs": [],
   "source": [
    "palabra2 = \"PROGRAMACION TRES\"\n",
    "palabra2.lower() #Convierte toda la cadena a minusculas"
   ]
  },
  {
   "cell_type": "code",
   "execution_count": null,
   "metadata": {},
   "outputs": [],
   "source": [
    "palabra.upper() #Convierta la palabra a mayúsuclas"
   ]
  },
  {
   "cell_type": "code",
   "execution_count": null,
   "metadata": {},
   "outputs": [],
   "source": [
    "palabra = \"   abc   \"\n",
    "palabra.strip()  #Elimina los espacios en blanco"
   ]
  },
  {
   "cell_type": "markdown",
   "metadata": {},
   "source": [
    "# Manipulando Cadenas"
   ]
  },
  {
   "cell_type": "code",
   "execution_count": null,
   "metadata": {},
   "outputs": [],
   "source": [
    "Palabra = \"mandarina\"\n",
    "type(palabra)"
   ]
  },
  {
   "cell_type": "code",
   "execution_count": null,
   "metadata": {},
   "outputs": [],
   "source": [
    "Palabra.find(\"d\")"
   ]
  },
  {
   "cell_type": "code",
   "execution_count": null,
   "metadata": {},
   "outputs": [],
   "source": [
    "Palabra.find(\"z\") #Si sale -1 no se encuentra en la cadena de la palabra."
   ]
  },
  {
   "cell_type": "markdown",
   "metadata": {},
   "source": [
    "## Mejorando el juego"
   ]
  },
  {
   "cell_type": "code",
   "execution_count": null,
   "metadata": {},
   "outputs": [],
   "source": [
    "def jugar():\n",
    "    print (\"°°°°°°°°°°°°°°°°°°°°°°°°°°°°°°°°°°°\")\n",
    "    print (\"Bienvenido al juego del ahorcado\")\n",
    "    print (\"°°°°°°°°°°°°°°°°°°°°°°°°°°°°°°°°°°°\")\n",
    "    \n",
    "    palabra_secreta = \"mandarina\"\n",
    "    \n",
    "    ahorcado = False\n",
    "    acerto = False\n",
    "    \n",
    "    while(not ahorcado and not acerto):\n",
    "        entrada = input(\"Ingrese una letra: \")\n",
    "        indice = 0\n",
    "        for letra in palabra_secreta:\n",
    "            if(entrada==letra):\n",
    "                print(\"Se encontro la letra {} en la posición {} \".format(letra,indice))\n",
    "                \n",
    "            indice = indice + 1\n",
    "        print(\"Jugando....\")\n",
    "        \n",
    "        \n",
    "    print(\"Fin del juego\")\n",
    "    \n",
    "if(__name__ == \"__main__\"):\n",
    "    jugar()"
   ]
  },
  {
   "cell_type": "code",
   "execution_count": null,
   "metadata": {},
   "outputs": [],
   "source": [
    "def jugar():\n",
    "    print (\"°°°°°°°°°°°°°°°°°°°°°°°°°°°°°°°°°°°\")\n",
    "    print (\"Bienvenido al juego del ahorcado\")\n",
    "    print (\"°°°°°°°°°°°°°°°°°°°°°°°°°°°°°°°°°°°\")\n",
    "    \n",
    "    palabra_secreta = \"mandarina\"\n",
    "    \n",
    "    ahorcado = False\n",
    "    acerto = False\n",
    "    \n",
    "    while(not ahorcado and not acerto):\n",
    "        entrada = input(\"Ingrese una letra: \")\n",
    "        entrada = entrada.strip()                       #Elimina los espacios\n",
    "        entrada = entrada.lower()                       #Convierte a minusuclas \n",
    "        indice = 0\n",
    "        for letra in palabra_secreta:\n",
    "            if(entrada==letra):\n",
    "                print(\"Se encontro la letra {} en la posición {} \".format(letra,indice))\n",
    "                \n",
    "            indice = indice + 1\n",
    "        print(\"Jugando....\")\n",
    "        \n",
    "        \n",
    "    print(\"Fin del juego\")\n",
    "    \n",
    "if(__name__ == \"__main__\"):\n",
    "    jugar()"
   ]
  },
  {
   "cell_type": "markdown",
   "metadata": {},
   "source": [
    "## Lista"
   ]
  },
  {
   "cell_type": "code",
   "execution_count": null,
   "metadata": {},
   "outputs": [],
   "source": [
    "valores = [0,1,2,3,4,5,7]"
   ]
  },
  {
   "cell_type": "code",
   "execution_count": null,
   "metadata": {},
   "outputs": [],
   "source": [
    "min(valores)"
   ]
  },
  {
   "cell_type": "code",
   "execution_count": null,
   "metadata": {},
   "outputs": [],
   "source": [
    "max(valores)"
   ]
  },
  {
   "cell_type": "code",
   "execution_count": null,
   "metadata": {},
   "outputs": [],
   "source": [
    "len(valores)"
   ]
  },
  {
   "cell_type": "code",
   "execution_count": null,
   "metadata": {},
   "outputs": [],
   "source": [
    "valores = []\n",
    "type (valores)"
   ]
  },
  {
   "cell_type": "code",
   "execution_count": null,
   "metadata": {},
   "outputs": [],
   "source": [
    "valores = [0,1,2,3,\"x\"]\n",
    "7 in valores"
   ]
  },
  {
   "cell_type": "code",
   "execution_count": null,
   "metadata": {},
   "outputs": [],
   "source": [
    "\"a\" in \"mandarina\""
   ]
  },
  {
   "cell_type": "code",
   "execution_count": null,
   "metadata": {},
   "outputs": [],
   "source": [
    "valores[4]"
   ]
  },
  {
   "cell_type": "code",
   "execution_count": null,
   "metadata": {},
   "outputs": [],
   "source": [
    "valores = [0,1,2,3,4,5,7]"
   ]
  },
  {
   "cell_type": "code",
   "execution_count": null,
   "metadata": {},
   "outputs": [],
   "source": [
    "min(valores)"
   ]
  },
  {
   "cell_type": "code",
   "execution_count": null,
   "metadata": {},
   "outputs": [],
   "source": [
    "max(valores)"
   ]
  },
  {
   "cell_type": "code",
   "execution_count": null,
   "metadata": {},
   "outputs": [],
   "source": [
    "len(valores)"
   ]
  },
  {
   "cell_type": "code",
   "execution_count": null,
   "metadata": {},
   "outputs": [],
   "source": [
    "valores.append(9)   #Añade un nuevo elemento a la lista\n",
    "valores"
   ]
  },
  {
   "cell_type": "code",
   "execution_count": null,
   "metadata": {},
   "outputs": [],
   "source": [
    "valores.pop()"
   ]
  },
  {
   "cell_type": "code",
   "execution_count": null,
   "metadata": {},
   "outputs": [],
   "source": [
    "valores"
   ]
  },
  {
   "cell_type": "markdown",
   "metadata": {},
   "source": [
    "# Clase 05/09/2023 ahorcado"
   ]
  },
  {
   "cell_type": "code",
   "execution_count": null,
   "metadata": {},
   "outputs": [],
   "source": [
    "def jugar():\n",
    "    print (\"°°°°°°°°°°°°°°°°°°°°°°°°°°°°°°°°°°°\")\n",
    "    print (\"Bienvenido al juego del ahorcado\")\n",
    "    print (\"°°°°°°°°°°°°°°°°°°°°°°°°°°°°°°°°°°°\")\n",
    "    \n",
    "    palabra_secreta = \"mandarina\"\n",
    "    \n",
    "    ahorcado = False\n",
    "    acerto = False\n",
    "    \n",
    "    while(not ahorcado and not acerto):\n",
    "        entrada = input (\"Ingrese una letra...\")\n",
    "        for letra in palabra_secreta:\n",
    "            if(entrada==letra):\n",
    "                print(entrada)\n",
    "                \n",
    "        print(\"Jugando....\")\n",
    "        \n",
    "        \n",
    "    print(\"Fin del juego\")\n",
    "    \n",
    "if(__name__ == \"__main__\"):\n",
    "    jugar()"
   ]
  },
  {
   "cell_type": "code",
   "execution_count": null,
   "metadata": {},
   "outputs": [],
   "source": [
    "def jugar():\n",
    "    print (\"°°°°°°°°°°°°°°°°°°°°°°°°°°°°°°°°°°°\")\n",
    "    print (\"Bienvenido al juego del ahorcado\")\n",
    "    print (\"°°°°°°°°°°°°°°°°°°°°°°°°°°°°°°°°°°°\")\n",
    "    \n",
    "    palabra_secreta = \"mandarina\"\n",
    "    \n",
    "    ahorcado = False\n",
    "    acerto = False\n",
    "    \n",
    "    while(not ahorcado and not acerto):\n",
    "        entrada = input (\"Ingrese una letra...\")\n",
    "        indice = 0\n",
    "        for letra in palabra_secreta:\n",
    "            if(entrada==letra):\n",
    "                print(\"Se encontro la letra {} en la posición {}\".format(letra,indice))\n",
    "                \n",
    "            indice = indice + 1\n",
    "        print(\"Jugando....\")\n",
    "        \n",
    "        \n",
    "    print(\"Fin del juego\")\n",
    "    \n",
    "if(__name__ == \"__main__\"):\n",
    "    jugar()"
   ]
  },
  {
   "cell_type": "markdown",
   "metadata": {},
   "source": [
    "# Fase 3"
   ]
  },
  {
   "cell_type": "code",
   "execution_count": null,
   "metadata": {},
   "outputs": [],
   "source": [
    "def jugar():\n",
    "    print (\"°°°°°°°°°°°°°°°°°°°°°°°°°°°°°°°°°°°\")\n",
    "    print (\"Bienvenido al juego del ahorcado\")\n",
    "    print (\"°°°°°°°°°°°°°°°°°°°°°°°°°°°°°°°°°°°\")\n",
    "    \n",
    "    palabra_secreta = \"mandarina\"\n",
    "    letras_acertadas = [\"_\",\"_\",\"_\",\"_\",\"_\",\"_\",\"_\",\"_\",\"_\"]\n",
    "    \n",
    "    ahorcado = False\n",
    "    acerto = False\n",
    "    \n",
    "    print(letras_acertadas)\n",
    "    while(not ahorcado and not acerto):\n",
    "        entrada = input (\"Ingrese una letra...\")\n",
    "        entrada = entrada.strip()                # elimina el espacion en blanco a la izquierda\n",
    "        entrada = entrada.lower()                # convierte a letras minusculas\n",
    "        indice = 0\n",
    "        for letra in palabra_secreta:\n",
    "            if(entrada==letra):\n",
    "                letras_acertadas[indice] = letra\n",
    "                \n",
    "            indice = indice + 1\n",
    "        print(letras_acertadas)\n",
    "        \n",
    "        \n",
    "    print(\"Fin del juego\")\n",
    "    \n",
    "if(__name__ == \"__main__\"):\n",
    "    jugar()"
   ]
  },
  {
   "cell_type": "markdown",
   "metadata": {},
   "source": [
    "# Listas"
   ]
  },
  {
   "cell_type": "code",
   "execution_count": null,
   "metadata": {},
   "outputs": [],
   "source": [
    "valores = []\n",
    "type(valores)"
   ]
  },
  {
   "cell_type": "code",
   "execution_count": null,
   "metadata": {},
   "outputs": [],
   "source": [
    "valores = [0,1,2,3,\"x\"]\n",
    "7 in valores"
   ]
  },
  {
   "cell_type": "code",
   "execution_count": null,
   "metadata": {},
   "outputs": [],
   "source": [
    "2 in valores"
   ]
  },
  {
   "cell_type": "code",
   "execution_count": null,
   "metadata": {},
   "outputs": [],
   "source": [
    "\"a\" in \"mandarina\""
   ]
  },
  {
   "cell_type": "code",
   "execution_count": null,
   "metadata": {},
   "outputs": [],
   "source": [
    "valores[4]"
   ]
  },
  {
   "cell_type": "code",
   "execution_count": null,
   "metadata": {},
   "outputs": [],
   "source": [
    "min(valores)   #Si todo es númerico o float"
   ]
  },
  {
   "cell_type": "code",
   "execution_count": null,
   "metadata": {},
   "outputs": [],
   "source": [
    "valores = [0,1,2,3,4,5,7]"
   ]
  },
  {
   "cell_type": "code",
   "execution_count": null,
   "metadata": {},
   "outputs": [],
   "source": [
    "min(valores)"
   ]
  },
  {
   "cell_type": "code",
   "execution_count": null,
   "metadata": {},
   "outputs": [],
   "source": [
    "max(valores)"
   ]
  },
  {
   "cell_type": "code",
   "execution_count": null,
   "metadata": {},
   "outputs": [],
   "source": [
    "len(valores)"
   ]
  },
  {
   "cell_type": "code",
   "execution_count": null,
   "metadata": {},
   "outputs": [],
   "source": [
    "valores.append(9)"
   ]
  },
  {
   "cell_type": "code",
   "execution_count": null,
   "metadata": {},
   "outputs": [],
   "source": [
    "valores"
   ]
  },
  {
   "cell_type": "code",
   "execution_count": null,
   "metadata": {},
   "outputs": [],
   "source": [
    "valores.pop()"
   ]
  },
  {
   "cell_type": "code",
   "execution_count": null,
   "metadata": {},
   "outputs": [],
   "source": [
    "valores"
   ]
  },
  {
   "cell_type": "markdown",
   "metadata": {},
   "source": [
    "# Series"
   ]
  },
  {
   "cell_type": "code",
   "execution_count": null,
   "metadata": {},
   "outputs": [],
   "source": [
    "serie = range(0,10)\n",
    "serie[2]"
   ]
  },
  {
   "cell_type": "code",
   "execution_count": null,
   "metadata": {},
   "outputs": [],
   "source": [
    "serie[7]"
   ]
  },
  {
   "cell_type": "code",
   "execution_count": null,
   "metadata": {},
   "outputs": [],
   "source": [
    "serie[9]"
   ]
  },
  {
   "cell_type": "code",
   "execution_count": null,
   "metadata": {},
   "outputs": [],
   "source": [
    "dias_laborales = [\"Lunes\",\"Martes\",\"Miercoles\",\"Jueves\",\"Viernes\"]"
   ]
  },
  {
   "cell_type": "code",
   "execution_count": null,
   "metadata": {},
   "outputs": [],
   "source": [
    "dias_laborales"
   ]
  },
  {
   "cell_type": "code",
   "execution_count": null,
   "metadata": {},
   "outputs": [],
   "source": [
    "dias_laborales.append(\"Sábado\")\n",
    "dias_laborales"
   ]
  },
  {
   "cell_type": "code",
   "execution_count": null,
   "metadata": {},
   "outputs": [],
   "source": [
    "dias_laborales.pop()"
   ]
  },
  {
   "cell_type": "code",
   "execution_count": null,
   "metadata": {},
   "outputs": [],
   "source": [
    "dias_laborales"
   ]
  },
  {
   "cell_type": "markdown",
   "metadata": {},
   "source": [
    "# Tuplas (Listas del tipo inmutable, que no se pueden modificar)"
   ]
  },
  {
   "cell_type": "code",
   "execution_count": null,
   "metadata": {},
   "outputs": [],
   "source": [
    "dias = (\"Lun\", \"Mar\", \"Mie\", \"Jue\", \"Vie\", \"Sab\", \"Dom\")\n",
    "type(dias)"
   ]
  },
  {
   "cell_type": "code",
   "execution_count": null,
   "metadata": {},
   "outputs": [],
   "source": [
    "dias[2]"
   ]
  },
  {
   "cell_type": "code",
   "execution_count": null,
   "metadata": {},
   "outputs": [],
   "source": [
    "dias[6]"
   ]
  },
  {
   "cell_type": "code",
   "execution_count": null,
   "metadata": {},
   "outputs": [],
   "source": [
    "punto = (5, 6)\n",
    "punto"
   ]
  },
  {
   "cell_type": "code",
   "execution_count": null,
   "metadata": {},
   "outputs": [],
   "source": [
    "punto = (3,5)\n",
    "p1 = (3,5)\n",
    "p2 = (4,6)\n",
    "p3 = (5,7)\n",
    "linea = [p1, p2, p3]\n",
    "linea"
   ]
  },
  {
   "cell_type": "code",
   "execution_count": null,
   "metadata": {},
   "outputs": [],
   "source": [
    "p1 = (\"Yami Moto\", 40)\n",
    "p2 = (\"Edivaldo\", 37)\n",
    "p3 = (\"Isidoro\", 39)\n",
    "profesores = [p1, p2, p3]\n",
    "profesores"
   ]
  },
  {
   "cell_type": "code",
   "execution_count": null,
   "metadata": {},
   "outputs": [],
   "source": [
    "profesores[1]"
   ]
  },
  {
   "cell_type": "markdown",
   "metadata": {},
   "source": [
    "# Para saber la edad"
   ]
  },
  {
   "cell_type": "code",
   "execution_count": null,
   "metadata": {},
   "outputs": [],
   "source": [
    "profesores[1][1]"
   ]
  },
  {
   "cell_type": "code",
   "execution_count": null,
   "metadata": {},
   "outputs": [],
   "source": [
    "profesores[2][1]"
   ]
  },
  {
   "cell_type": "code",
   "execution_count": null,
   "metadata": {},
   "outputs": [],
   "source": [
    "profesores[1][0]"
   ]
  },
  {
   "cell_type": "markdown",
   "metadata": {},
   "source": [
    "# Lineas de archivo"
   ]
  },
  {
   "cell_type": "code",
   "execution_count": null,
   "metadata": {},
   "outputs": [],
   "source": [
    "palabras = []\n",
    "palabras.append(\"mandarina\")\n",
    "palabras.append(\"manzana\")\n",
    "palabras.append(\"durazno\")\n",
    "palabras.append(\"sandía\")\n",
    "palabras"
   ]
  },
  {
   "cell_type": "code",
   "execution_count": null,
   "metadata": {},
   "outputs": [],
   "source": [
    "nueva = tuple(palabras)\n",
    "nueva\n",
    "type(nueva)"
   ]
  },
  {
   "cell_type": "code",
   "execution_count": null,
   "metadata": {},
   "outputs": [],
   "source": [
    "nueva"
   ]
  },
  {
   "cell_type": "code",
   "execution_count": null,
   "metadata": {},
   "outputs": [],
   "source": [
    "otra = list(nueva)\n",
    "otra"
   ]
  },
  {
   "cell_type": "markdown",
   "metadata": {},
   "source": [
    "# Mejora ahorcado 12/09/2023"
   ]
  },
  {
   "cell_type": "code",
   "execution_count": null,
   "metadata": {},
   "outputs": [],
   "source": [
    "def jugar():\n",
    "    print (\"°°°°°°°°°°°°°°°°°°°°°°°°°°°°°°°°°°°\")\n",
    "    print (\"Bienvenido al juego del ahorcado\")\n",
    "    print (\"°°°°°°°°°°°°°°°°°°°°°°°°°°°°°°°°°°°\")\n",
    "    \n",
    "    palabra_secreta = \"mandarina\"\n",
    "    letras_acertadas = [\"_\",\"_\",\"_\",\"_\",\"_\",\"_\",\"_\",\"_\",\"_\"]\n",
    "    \n",
    "    ahorcado = False\n",
    "    acerto = False\n",
    "    errores = 0 #Contador de errores\n",
    "    \n",
    "    print(letras_acertadas)\n",
    "    while(not ahorcado and not acerto):\n",
    "        entrada = input (\"Ingrese una letra...\")\n",
    "        entrada = entrada.strip()                # elimina el espacion en blanco a la izquierda\n",
    "        entrada = entrada.lower()                # convierte a letras minusculas\n",
    "        \n",
    "        if entrada in palabra_secreta:\n",
    "            indice = 0\n",
    "            for letra in palabra_secreta:\n",
    "                if(entrada==letra):\n",
    "                    letras_acertadas[indice] = letra\n",
    "\n",
    "                indice = indice + 1\n",
    "        else:\n",
    "            errores += 1\n",
    "            \n",
    "        ahorcado = errores == 9\n",
    "        acerto = \"_\" not in letras_acertadas\n",
    "        print(letras_acertadas)\n",
    "        \n",
    "    if(acerto):\n",
    "        print(\"Felicitaciones, ganaste!!\")\n",
    "    else:\n",
    "        print(\"Lo siento, perdiste!!\")\n",
    "        \n",
    "\n",
    "    print(\"Fin del juego\")\n",
    "    \n",
    "if(__name__ == \"__main__\"):\n",
    "    jugar()"
   ]
  },
  {
   "cell_type": "markdown",
   "metadata": {},
   "source": [
    "# Para generar las barras bajas"
   ]
  },
  {
   "cell_type": "code",
   "execution_count": null,
   "metadata": {},
   "outputs": [],
   "source": [
    "palabra = \"chirimoya\"\n",
    "lista = []\n",
    "for elemento in palabra:\n",
    "    lista.append(\"_\")\n",
    "lista"
   ]
  },
  {
   "cell_type": "code",
   "execution_count": null,
   "metadata": {},
   "outputs": [],
   "source": [
    "palabra = \"durazno\"\n",
    "lista = [\"_\" for elemento in palabra]\n",
    "lista"
   ]
  },
  {
   "cell_type": "code",
   "execution_count": null,
   "metadata": {},
   "outputs": [],
   "source": [
    "def jugar():\n",
    "    print (\"°°°°°°°°°°°°°°°°°°°°°°°°°°°°°°°°°°°\")\n",
    "    print (\"Bienvenido al juego del ahorcado\")\n",
    "    print (\"°°°°°°°°°°°°°°°°°°°°°°°°°°°°°°°°°°°\")\n",
    "    \n",
    "    palabra_secreta = \"mandarina\"\n",
    "    letras_acertadas = [\"_\" for elemento in palabra_secreta]\n",
    "    \n",
    "    ahorcado = False\n",
    "    acerto = False\n",
    "    errores = 0 #Contador de errores\n",
    "    \n",
    "    print(letras_acertadas)\n",
    "    while(not ahorcado and not acerto):\n",
    "        entrada = input (\"Ingrese una letra...\")\n",
    "        entrada = entrada.strip()                # elimina el espacion en blanco a la izquierda\n",
    "        entrada = entrada.lower()                # convierte a letras minusculas\n",
    "        \n",
    "        if entrada in palabra_secreta:\n",
    "            indice = 0\n",
    "            for letra in palabra_secreta:\n",
    "                if(entrada==letra):\n",
    "                    letras_acertadas[indice] = letra\n",
    "\n",
    "                indice = indice + 1\n",
    "        else:\n",
    "            errores += 1\n",
    "            \n",
    "        ahorcado = errores == 9\n",
    "        acerto = \"_\" not in letras_acertadas\n",
    "        print(letras_acertadas)\n",
    "        \n",
    "    if(acerto):\n",
    "        print(\"Felicitaciones, ganaste!!\")\n",
    "    else:\n",
    "        print(\"Lo siento, perdiste!!\")\n",
    "        \n",
    "\n",
    "    print(\"Fin del juego\")\n",
    "    \n",
    "if(__name__ == \"__main__\"):\n",
    "    jugar()"
   ]
  },
  {
   "cell_type": "markdown",
   "metadata": {},
   "source": [
    "# Archivos"
   ]
  },
  {
   "cell_type": "code",
   "execution_count": null,
   "metadata": {},
   "outputs": [],
   "source": [
    "archivo = open(\"palabras.txt\",\"w\")\n",
    "archivo"
   ]
  },
  {
   "cell_type": "code",
   "execution_count": null,
   "metadata": {},
   "outputs": [],
   "source": [
    "archivo.write(\"plátano\")"
   ]
  },
  {
   "cell_type": "code",
   "execution_count": null,
   "metadata": {},
   "outputs": [],
   "source": [
    "archivo.write(\"durazno\")"
   ]
  },
  {
   "cell_type": "code",
   "execution_count": null,
   "metadata": {},
   "outputs": [],
   "source": [
    "archivo.close()"
   ]
  },
  {
   "cell_type": "code",
   "execution_count": null,
   "metadata": {},
   "outputs": [],
   "source": [
    "archivo = open(\"palabras.txt\",\"a\")\n",
    "archivo.write(\"frutilla\\n\")"
   ]
  },
  {
   "cell_type": "code",
   "execution_count": null,
   "metadata": {},
   "outputs": [],
   "source": [
    "archivo.write(\"manzana\\n\")"
   ]
  },
  {
   "cell_type": "code",
   "execution_count": null,
   "metadata": {},
   "outputs": [],
   "source": [
    "archivo.close()"
   ]
  },
  {
   "cell_type": "markdown",
   "metadata": {},
   "source": [
    "# Leyendo un archivo"
   ]
  },
  {
   "cell_type": "code",
   "execution_count": null,
   "metadata": {},
   "outputs": [],
   "source": [
    "archivo = open(\"Palabras.txt\",\"r\") #abrimos solo el archivo para lectura  "
   ]
  },
  {
   "cell_type": "code",
   "execution_count": null,
   "metadata": {},
   "outputs": [],
   "source": [
    "archivo.write(\"chirimoya\")"
   ]
  },
  {
   "cell_type": "code",
   "execution_count": null,
   "metadata": {},
   "outputs": [],
   "source": [
    "archivo.read()"
   ]
  },
  {
   "cell_type": "code",
   "execution_count": null,
   "metadata": {},
   "outputs": [],
   "source": [
    "archivo.read()"
   ]
  },
  {
   "cell_type": "code",
   "execution_count": null,
   "metadata": {},
   "outputs": [],
   "source": [
    "archivo.close()"
   ]
  },
  {
   "cell_type": "markdown",
   "metadata": {},
   "source": [
    "# Queremos leer línea por línea, no todo el archivo"
   ]
  },
  {
   "cell_type": "code",
   "execution_count": null,
   "metadata": {},
   "outputs": [],
   "source": [
    "archivo = open(\"Palabras.txt\",\"r\")\n",
    "for linea in archivo:\n",
    "    print(linea)"
   ]
  },
  {
   "cell_type": "code",
   "execution_count": null,
   "metadata": {},
   "outputs": [],
   "source": [
    "archivo.close()\n",
    "archivo = open(\"Palabras.txt\",\"r\")\n",
    "linea = archivo.readline()\n",
    "type(linea)"
   ]
  },
  {
   "cell_type": "code",
   "execution_count": null,
   "metadata": {},
   "outputs": [],
   "source": [
    "for linea in archivo:\n",
    "    print(linea)"
   ]
  },
  {
   "cell_type": "code",
   "execution_count": null,
   "metadata": {},
   "outputs": [],
   "source": [
    "linea"
   ]
  },
  {
   "cell_type": "code",
   "execution_count": null,
   "metadata": {},
   "outputs": [],
   "source": [
    "linea.strip()"
   ]
  },
  {
   "cell_type": "code",
   "execution_count": null,
   "metadata": {},
   "outputs": [],
   "source": [
    "pip install num2words"
   ]
  },
  {
   "cell_type": "code",
   "execution_count": null,
   "metadata": {},
   "outputs": [],
   "source": [
    "from num2words import num2words\n",
    "\n",
    "prueba = num2words(100, lang='de')\n",
    "print(prueba)\n"
   ]
  },
  {
   "cell_type": "code",
   "execution_count": null,
   "metadata": {},
   "outputs": [],
   "source": [
    "nombre = input(\"Ingrese su nombre:  \")\n",
    "print(\"Hola {}\".format(nombre))"
   ]
  },
  {
   "cell_type": "code",
   "execution_count": null,
   "metadata": {},
   "outputs": [],
   "source": [
    "nombre = input(\"Ingrese su nombre:  \")\n",
    "edad = input (\"Ingrese su edad:  \")\n",
    "print(\"Hola {}, tu edad es {}\".format(nombre,edad))"
   ]
  },
  {
   "cell_type": "code",
   "execution_count": null,
   "metadata": {},
   "outputs": [],
   "source": [
    "a = int(input(\"Ingrese el primer número:  \"))\n",
    "b = int(input(\"Ingrese el segundo número: \"))\n",
    "c = int(input(\"Ingrese el tercer número:  \"))\n",
    "if a>b and a>c:\n",
    "    print(\"El número A : {} es el mayor\".format(a))\n",
    "if b>a and b>c:\n",
    "    print(\"El número B : {} es el mayor\".format(b))\n",
    "if c>a and c>b:\n",
    "    print(\"El número C : {} es el mayor\".format(c))"
   ]
  },
  {
   "cell_type": "code",
   "execution_count": null,
   "metadata": {},
   "outputs": [],
   "source": [
    "NM=0\n",
    "N=[]\n",
    "for i in range(5):\n",
    "    num=int(input(\"Ingrese número: \"))\n",
    "    N.append(num)\n",
    "    \n",
    "print(max(N))"
   ]
  },
  {
   "cell_type": "code",
   "execution_count": null,
   "metadata": {},
   "outputs": [],
   "source": [
    "N=[]\n",
    "for i in range(5):\n",
    "    num=int(input(\"Ingrese número: \"))\n",
    "    N.append(num)\n",
    "    \n",
    "suma = sum(N)\n",
    "promedio = suma/len(N)\n",
    "\n",
    "print(suma)\n",
    "print(promedio)"
   ]
  },
  {
   "cell_type": "markdown",
   "metadata": {},
   "source": [
    "# Practica clase lectura de números 19/09/2023"
   ]
  },
  {
   "cell_type": "code",
   "execution_count": null,
   "metadata": {},
   "outputs": [],
   "source": [
    "Unidades = [\"Cero\",\"Uno\",\"Dos\",\"Tres\",\"Cuatro\",\"Cinco\",\"Seis\",\"Siete\",\"Ocho\",\"Nueve\"]\n",
    "literal = \"\"\n",
    "numero = int(input(\"Ingrese un número del 1 al 9\"))\n",
    "literal = Unidades[numero]\n",
    "literal"
   ]
  },
  {
   "cell_type": "code",
   "execution_count": null,
   "metadata": {},
   "outputs": [],
   "source": [
    "Unidades = [\" \",\"Uno\",\"Dos\",\"Tres\",\"Cuatro\",\"Cinco\",\"Seis\",\"Siete\",\"Ocho\",\"Nueve\"]\n",
    "Decenas = [\" \",\"Diez\",\"Veinte\",\"Treinta\",\"Cuarenta\",\"Cincuenta\",\"Sesenta\",\"Setenta\",\"Ochenta\",\"Noventa\"]\n",
    "Dieces = [\" \",\"Once\",\"Doce\",\"Trece\",\"Catorce\",\"Quince\",\"Dieciseis\",\"Diecisiete\",\"Dieciocho\",\"Diecinueve\"]\n",
    "literal = \"\"\n",
    "numero = input(\"Ingrese un número: \")\n",
    "posicion = 2\n",
    "for indice in numero:\n",
    "    if posicion == 2 and indice == '1':\n",
    "        literal = literal+Dieces[int(numero[1])]\n",
    "        break\n",
    "    if posicion == 2 and indice!= \"1\":\n",
    "        literal = literal+\" \"+Decenas[int(indice)]\n",
    "    if posicion == 1:\n",
    "        literal = literal+\" \"+Unidades[int(indice)]\n",
    "    posicion=posicion-1\n",
    "    \n",
    "print(literal)"
   ]
  },
  {
   "cell_type": "markdown",
   "metadata": {},
   "source": [
    "# Refactoring del juego ahorcado"
   ]
  },
  {
   "cell_type": "code",
   "execution_count": 18,
   "metadata": {},
   "outputs": [
    {
     "ename": "IndentationError",
     "evalue": "unexpected indent (1660074819.py, line 31)",
     "output_type": "error",
     "traceback": [
      "\u001b[1;36m  Cell \u001b[1;32mIn[18], line 31\u001b[1;36m\u001b[0m\n\u001b[1;33m    for letra in palabra_secreta:\u001b[0m\n\u001b[1;37m    ^\u001b[0m\n\u001b[1;31mIndentationError\u001b[0m\u001b[1;31m:\u001b[0m unexpected indent\n"
     ]
    }
   ],
   "source": [
    "import random\n",
    "\n",
    "def imprimir_mensaje_inicial():\n",
    "    print (\"°°°°°°°°°°°°°°°°°°°°°°°°°°°°°°°°°°°\")\n",
    "    print (\"Bienvenido al juego del ahorcado\")\n",
    "    print (\"°°°°°°°°°°°°°°°°°°°°°°°°°°°°°°°°°°°\")\n",
    "    \n",
    "def definir_palabra_secreta():\n",
    "    archivo = open (\"palabras.txt\",\"r\")\n",
    "    palabras = []\n",
    "    for linea in archivo:\n",
    "        linea = linea.strip()\n",
    "        palabras.append(linea)\n",
    "        \n",
    "    archivo.close()\n",
    "    numero = random.randrange(0,len(palabras))          #Indice para las palabras\n",
    "    palabra_secreta = palabras[numero].lower()\n",
    "    return palabra_secreta\n",
    "\n",
    "def inicializar_letra_acertadas(palabra_secreta):\n",
    "    return [\"_\" for elemento in palabra_secreta]\n",
    "\n",
    "def leer_entrada():\n",
    "    entrada = input (\"Ingrese una letra...\")\n",
    "    entrada = entrada.strip()                # elimina el espacion en blanco a la izquierda\n",
    "    entrada = entrada.lower()                # convierte a letras minusculas\n",
    "    return entrada\n",
    "\n",
    "def marcar_entrada_correcta(entrada, palabra_secreta, letras_acertadas):\n",
    "    indice = 0\n",
    "            for letra in palabra_secreta:\n",
    "                if(entrada==letra):\n",
    "                    letras_acertadas[indice] = letra\n",
    "\n",
    "                indice = indice + 1\n",
    "\n",
    "                \n",
    "def jugar():\n",
    "    \n",
    "    imprimir_mensaje_inicial()\n",
    "    \n",
    "    palabra_secreta = definir_palabra_secreta()\n",
    "    \n",
    "    letras_acertadas = inicializar_letra_acertadas(palabra_secreta)\n",
    "    \n",
    "    ahorcado = False\n",
    "    acerto = False\n",
    "    errores = 0 #Contador de errores\n",
    "    \n",
    "    print(letras_acertadas)\n",
    "    while(not ahorcado and not acerto):\n",
    "        \n",
    "        entrada = leer_entrada()\n",
    "        \n",
    "        if entrada in palabra_secreta:\n",
    "            marcar_entrada_correcta(entrada, palabra_secreta, letras_acertadas)\n",
    "            \n",
    "        else:\n",
    "            errores += 1\n",
    "            \n",
    "        ahorcado = errores == 9\n",
    "        acerto = \"_\" not in letras_acertadas\n",
    "        print(letras_acertadas)\n",
    "        \n",
    "    if(acerto):\n",
    "        print(\"Felicitaciones, ganaste!!\")\n",
    "    else:\n",
    "        print(\"Lo siento, perdiste!!\")\n",
    "        \n",
    "\n",
    "    print(\"Fin del juego\")\n",
    "    \n",
    "if(__name__ == \"__main__\"):\n",
    "    jugar()"
   ]
  },
  {
   "cell_type": "markdown",
   "metadata": {},
   "source": [
    "# Fase 2"
   ]
  },
  {
   "cell_type": "code",
   "execution_count": 68,
   "metadata": {},
   "outputs": [
    {
     "name": "stdout",
     "output_type": "stream",
     "text": [
      "================================\n",
      "Bienvenido al Juego del Ahorcado\n",
      "================================\n",
      "['_', '_', '_', '_']\n",
      "ingrese una letra...x\n",
      "  _     \n",
      " |/      |    \n",
      " |      (_)   \n",
      " |            \n",
      " |            \n",
      " |            \n",
      " |            \n",
      "|__         \n",
      "\n",
      "['_', '_', '_', '_']\n",
      "ingrese una letra...c\n",
      "  _     \n",
      " |/      |    \n",
      " |      (_)   \n",
      " |      \\     \n",
      " |            \n",
      " |            \n",
      " |            \n",
      "|__         \n",
      "\n",
      "['_', '_', '_', '_']\n",
      "ingrese una letra...v\n",
      "  _     \n",
      " |/      |    \n",
      " |      (_)   \n",
      " |      \\|    \n",
      " |            \n",
      " |            \n",
      " |            \n",
      "|__         \n",
      "\n",
      "['_', '_', '_', '_']\n",
      "ingrese una letra...b\n",
      "  _     \n",
      " |/      |    \n",
      " |      (_)   \n",
      " |      \\|/   \n",
      " |            \n",
      " |            \n",
      " |            \n",
      "|__         \n",
      "\n",
      "['_', '_', '_', '_']\n",
      "\n",
      " Lo siento, fuiste ahorcado!\n",
      "La palabra era kiwi\n",
      "    ___         \n",
      "   /               \\       \n",
      "  /                 \\      \n",
      "//                   \\/\\  \n",
      "\\|   XXXX     XXXX   | /   \n",
      " |   XXXX     XXXX   |/     \n",
      " |   XXX       XXX   |      \n",
      " |                   |      \n",
      " \\_      XXX      _/     \n",
      "   |\\     XXX     /|       \n",
      "   | |           | |        \n",
      "   | I I I I I I I |        \n",
      "   |  I I I I I I  |        \n",
      "   \\_             _/       \n",
      "     \\_         _/         \n",
      "       \\_/           \n"
     ]
    }
   ],
   "source": [
    "import random\n",
    "\n",
    "\n",
    "def imprimir_mensaje_inicial():\n",
    "    print('================================')\n",
    "    print('Bienvenido al Juego del Ahorcado')\n",
    "    print('================================')\n",
    "\n",
    "def definir_palabra_secreta():\n",
    "    archivo = open (\"palabras.txt\",\"r\")\n",
    "    palabras = []\n",
    "    for linea in archivo:\n",
    "        linea = linea.strip()\n",
    "        palabras.append(linea)\n",
    "        \n",
    "    archivo.close()\n",
    "    numero = random.randrange(0,len(palabras))          #Indice para las palabras\n",
    "    palabra_secreta = palabras[numero].lower()\n",
    "    return palabra_secreta\n",
    "\n",
    "\n",
    "def medir_largo_palabra(palabra_secreta):\n",
    "    return len(palabra_secreta)\n",
    "\n",
    "def inicializar_letras_acertadas(palabra_secreta):\n",
    "    return ['_' for elemento in palabra_secreta]\n",
    "def leer_entrada():\n",
    "    entrada=input (\"ingrese una letra...\")\n",
    "    entrada=entrada.strip()\n",
    "    entrada=entrada.lower()\n",
    "    return entrada\n",
    "\n",
    "\n",
    "def marcar_entrada_correcta(entrada,palabra_secreta,letras_acertadas):\n",
    "    indice = 0\n",
    "    for letra in palabra_secreta:\n",
    "        if(entrada==letra):\n",
    "            letras_acertadas[indice] = letra\n",
    "        indice = indice + 1 \n",
    "        \n",
    "def imprimir_mensaje_ganador():\n",
    "    print(\"\\n Felicitaciones, ganaste el juego!\")\n",
    "    print(\"       ___      \")\n",
    "    print(\"      '.=====.'     \")\n",
    "    print(\"      .-\\\\:      /-.    \")\n",
    "    print(\"     | (|:.     |) |    \")\n",
    "    print(\"      '-|:.     |-'     \")\n",
    "    print(\"        \\\\::.    /      \")\n",
    "    print(\"         '::. .'        \")\n",
    "    print(\"           ) (          \")\n",
    "    print(\"         .' '.        \")\n",
    "    print(\"        '-------'       \")        \n",
    "\n",
    "def imprimir_mensaje_perdedor(palabra_secreta):\n",
    "    print(\"\\n Lo siento, fuiste ahorcado!\")\n",
    "    print(\"La palabra era {}\".format(palabra_secreta))\n",
    "    print(\"    _______________         \")\n",
    "    print(\"   /               \\       \")\n",
    "    print(\"  /                 \\      \")\n",
    "    print(\"//                   \\/\\  \")\n",
    "    print(\"\\|   XXXX     XXXX   | /   \")\n",
    "    print(\" |   XXXX     XXXX   |/     \")\n",
    "    print(\" |   XXX       XXX   |      \")\n",
    "    print(\" |                   |      \")\n",
    "    print(\" \\__      XXX      __/     \")\n",
    "    print(\"   |\\     XXX     /|       \")\n",
    "    print(\"   | |           | |        \")\n",
    "    print(\"   | I I I I I I I |        \")\n",
    "    print(\"   |  I I I I I I  |        \")\n",
    "    print(\"   \\_             _/       \")\n",
    "    print(\"     \\_         _/         \")\n",
    "    print(\"       \\_______/           \") \n",
    "    \n",
    "def dibujar_ahorcado(errores):\n",
    "    print(\"  _     \")\n",
    "    print(\" |/      |    \")\n",
    "\n",
    "    if(errores == 1):\n",
    "        print(\" |      (_)   \")\n",
    "        print(\" |            \")\n",
    "        print(\" |            \")\n",
    "        print(\" |            \")\n",
    "\n",
    "    if(errores == 2):\n",
    "        print(\" |      (_)   \")\n",
    "        print(\" |      \\     \")\n",
    "        print(\" |            \")\n",
    "        print(\" |            \")\n",
    "\n",
    "    if(errores == 3):\n",
    "        print(\" |      (_)   \")\n",
    "        print(\" |      \\|    \")\n",
    "        print(\" |            \")\n",
    "        print(\" |            \")\n",
    "\n",
    "    if(errores == 4):\n",
    "        print(\" |      (_)   \")\n",
    "        print(\" |      \\|/   \")\n",
    "        print(\" |            \")\n",
    "        print(\" |            \")\n",
    "\n",
    "    if(errores == 5):\n",
    "        print(\" |      (_)   \")\n",
    "        print(\" |      \\|/   \")\n",
    "        print(\" |       |    \")\n",
    "        print(\" |            \")\n",
    "\n",
    "    if(errores == 6):\n",
    "        print(\" |      (_)   \")\n",
    "        print(\" |      \\|/   \")\n",
    "        print(\" |       |    \")\n",
    "        print(\" |      /     \")\n",
    "\n",
    "    if (errores == 7):\n",
    "        print(\" |      (_)   \")\n",
    "        print(\" |      \\|/   \")\n",
    "        print(\" |       |    \")\n",
    "        print(\" |      / \\   \")\n",
    "\n",
    "    print(\" |            \")\n",
    "    print(\"|__         \")\n",
    "    print()\n",
    "    \n",
    "    \n",
    "def jugar ():\n",
    "    imprimir_mensaje_inicial()\n",
    "    palabra_secreta=definir_palabra_secreta()\n",
    "    letras_acertadas=inicializar_letras_acertadas(palabra_secreta)\n",
    "    \n",
    "    ahorcado = False\n",
    "    acerto = False\n",
    "    errores=0   # contador de errorres\n",
    "    \n",
    "    print(letras_acertadas)\n",
    "    while ( not ahorcado and not acerto ):\n",
    "        entrada = leer_entrada()\n",
    "        if entrada in palabra_secreta:\n",
    "            marcar_entrada_correcta(entrada,palabra_secreta,letras_acertadas)  \n",
    "        else:\n",
    "            errores += 1\n",
    "            dibujar_ahorcado(errores)\n",
    "   \n",
    "        ahorcado=errores== medir_largo_palabra(palabra_secreta)\n",
    "        acerto= \"_\" not in letras_acertadas\n",
    "        print(letras_acertadas)       \n",
    "    if(acerto):\n",
    "        imprimir_mensaje_ganador()\n",
    "    else:\n",
    "        imprimir_mensaje_perdedor(palabra_secreta)\n",
    "    \n",
    "    \n",
    "if(__name__== \"__main__\"):\n",
    "    jugar()"
   ]
  },
  {
   "cell_type": "markdown",
   "metadata": {},
   "source": [
    "# Fase 3 para dibujos"
   ]
  },
  {
   "cell_type": "code",
   "execution_count": 4,
   "metadata": {},
   "outputs": [
    {
     "name": "stdout",
     "output_type": "stream",
     "text": [
      "================================\n",
      "Bienvenido al Juego del Ahorcado\n",
      "================================\n",
      "[2, 2, 1, 1, 1]\n",
      "['_', '_', '_', '_', '_']\n",
      "ingrese una letra...m\n",
      "  _     \n",
      " |/      |    \n",
      " |      (_)   \n",
      " |            \n",
      " |            \n",
      " |            \n",
      " |            \n",
      "|__         \n",
      "\n",
      "['_', '_', '_', '_', '_']\n",
      "ingrese una letra...k\n",
      "  _     \n",
      " |/      |    \n",
      " |      (_)   \n",
      " |      \\     \n",
      " |            \n",
      " |            \n",
      " |            \n",
      "|__         \n",
      "\n",
      "['_', '_', '_', '_', '_']\n",
      "ingrese una letra...j\n",
      "  _     \n",
      " |/      |    \n",
      " |      (_)   \n",
      " |      \\|    \n",
      " |            \n",
      " |            \n",
      " |            \n",
      "|__         \n",
      "\n",
      "['_', '_', '_', '_', '_']\n",
      "ingrese una letra...p\n",
      "  _     \n",
      " |/      |    \n",
      " |      (_)   \n",
      " |      \\|/   \n",
      " |            \n",
      " |            \n",
      " |            \n",
      "|__         \n",
      "\n",
      "['_', '_', '_', '_', '_']\n",
      "ingrese una letra...o\n",
      "  _     \n",
      " |/      |    \n",
      " |      (_)   \n",
      " |      \\|/   \n",
      " |       |    \n",
      " |            \n",
      " |            \n",
      "|__         \n",
      "\n",
      "['_', '_', '_', '_', '_']\n",
      "\n",
      " Lo siento, fuiste ahorcado!\n",
      "La palabra era fresa\n",
      "    _______________         \n",
      "   /               \\       \n",
      "  /                 \\      \n",
      "//                   \\/\\  \n",
      "\\|   XXXX     XXXX   | /   \n",
      " |   XXXX     XXXX   |/     \n",
      " |   XXX       XXX   |      \n",
      " |                   |      \n",
      " \\__      XXX      __/     \n",
      "   |\\     XXX     /|       \n",
      "   | |           | |        \n",
      "   | I I I I I I I |        \n",
      "   |  I I I I I I  |        \n",
      "   \\_             _/       \n",
      "     \\_         _/         \n",
      "       \\_______/           \n"
     ]
    }
   ],
   "source": [
    "import random\n",
    "\n",
    "\n",
    "def imprimir_mensaje_inicial():\n",
    "    print('================================')\n",
    "    print('Bienvenido al Juego del Ahorcado')\n",
    "    print('================================')\n",
    "\n",
    "def definir_palabra_secreta():\n",
    "    archivo = open (\"palabras.txt\",\"r\")\n",
    "    palabras = []\n",
    "    for linea in archivo:\n",
    "        linea = linea.strip()\n",
    "        palabras.append(linea)\n",
    "        \n",
    "    archivo.close()\n",
    "    numero = random.randrange(0,len(palabras))          #Indice para las palabras\n",
    "    palabra_secreta = palabras[numero].lower()\n",
    "    \n",
    "    palabra_secreta = \"fresa\"\n",
    "    \n",
    "    return palabra_secreta\n",
    "\n",
    "\n",
    "def medir_largo_palabra(palabra_secreta):\n",
    "    return len(palabra_secreta)\n",
    "\n",
    "def inicializar_letras_acertadas(palabra_secreta):\n",
    "    return ['_' for elemento in palabra_secreta]\n",
    "def leer_entrada():\n",
    "    entrada=input (\"ingrese una letra...\")\n",
    "    entrada=entrada.strip()\n",
    "    entrada=entrada.lower()\n",
    "    return entrada\n",
    "\n",
    "\n",
    "def marcar_entrada_correcta(entrada,palabra_secreta,letras_acertadas):\n",
    "    indice = 0\n",
    "    for letra in palabra_secreta:\n",
    "        if(entrada==letra):\n",
    "            letras_acertadas[indice] = letra\n",
    "        indice = indice + 1 \n",
    "        \n",
    "def imprimir_mensaje_ganador():\n",
    "    print(\"\\n Felicitaciones, ganaste el juego!\")\n",
    "    print(\"       ___      \")\n",
    "    print(\"      '.=====.'     \")\n",
    "    print(\"      .-\\\\:      /-.    \")\n",
    "    print(\"     | (|:.     |) |    \")\n",
    "    print(\"      '-|:.     |-'     \")\n",
    "    print(\"        \\\\::.    /      \")\n",
    "    print(\"         '::. .'        \")\n",
    "    print(\"           ) (          \")\n",
    "    print(\"         .' '.        \")\n",
    "    print(\"        '-------'       \")        \n",
    "\n",
    "def imprimir_mensaje_perdedor(palabra_secreta):\n",
    "    print(\"\\n Lo siento, fuiste ahorcado!\")\n",
    "    print(\"La palabra era {}\".format(palabra_secreta))\n",
    "    print(\"    _______________         \")\n",
    "    print(\"   /               \\       \")\n",
    "    print(\"  /                 \\      \")\n",
    "    print(\"//                   \\/\\  \")\n",
    "    print(\"\\|   XXXX     XXXX   | /   \")\n",
    "    print(\" |   XXXX     XXXX   |/     \")\n",
    "    print(\" |   XXX       XXX   |      \")\n",
    "    print(\" |                   |      \")\n",
    "    print(\" \\__      XXX      __/     \")\n",
    "    print(\"   |\\     XXX     /|       \")\n",
    "    print(\"   | |           | |        \")\n",
    "    print(\"   | I I I I I I I |        \")\n",
    "    print(\"   |  I I I I I I  |        \")\n",
    "    print(\"   \\_             _/       \")\n",
    "    print(\"     \\_         _/         \")\n",
    "    print(\"       \\_______/           \") \n",
    "    \n",
    "def dibujar_ahorcado(errores):\n",
    "    print(\"  _     \")\n",
    "    print(\" |/      |    \")\n",
    "\n",
    "    if(errores == 1):\n",
    "        print(\" |      (_)   \")\n",
    "        print(\" |            \")\n",
    "        print(\" |            \")\n",
    "        print(\" |            \")\n",
    "\n",
    "    if(errores == 2):\n",
    "        print(\" |      (_)   \")\n",
    "        print(\" |      \\     \")\n",
    "        print(\" |            \")\n",
    "        print(\" |            \")\n",
    "\n",
    "    if(errores == 3):\n",
    "        print(\" |      (_)   \")\n",
    "        print(\" |      \\|    \")\n",
    "        print(\" |            \")\n",
    "        print(\" |            \")\n",
    "\n",
    "    if(errores == 4):\n",
    "        print(\" |      (_)   \")\n",
    "        print(\" |      \\|/   \")\n",
    "        print(\" |            \")\n",
    "        print(\" |            \")\n",
    "\n",
    "    if(errores == 5):\n",
    "        print(\" |      (_)   \")\n",
    "        print(\" |      \\|/   \")\n",
    "        print(\" |       |    \")\n",
    "        print(\" |            \")\n",
    "\n",
    "    if(errores == 6):\n",
    "        print(\" |      (_)   \")\n",
    "        print(\" |      \\|/   \")\n",
    "        print(\" |       |    \")\n",
    "        print(\" |      /     \")\n",
    "\n",
    "    if (errores == 7):\n",
    "        print(\" |      (_)   \")\n",
    "        print(\" |      \\|/   \")\n",
    "        print(\" |       |    \")\n",
    "        print(\" |      / \\   \")\n",
    "\n",
    "    print(\" |            \")\n",
    "    print(\"|__         \")\n",
    "    print()\n",
    "    \n",
    "def calcular_iteraciones_dibujo(largo_palabra, pasos_dibujo):\n",
    "    #Rellenar con unos\n",
    "    for i in range(largo_palabra):\n",
    "        pasos_dibujo.append(1) #Agregamos un 1 a la lista\n",
    "    sumar_pasos = sum(pasos_dibujo) #Sumamos el contenido de la lista\n",
    "    \n",
    "    while(sumar_pasos<7 and largo_palabra<7):\n",
    "        #Ciclo para recorrer pasos_dibujo\n",
    "        for i in range(largo_palabra):\n",
    "            pasos_dibujo[i] = pasos_dibujo[i]+1\n",
    "            sumar_pasos = sum(pasos_dibujo) # Sumamos el contenido de la lista\n",
    "            if(sumar_pasos == 7):\n",
    "                break\n",
    "                \n",
    "    while(sumar_pasos>7 and largo_palabra>7):\n",
    "        #Ciclo para recorrer pasos_dibujo\n",
    "        for i in range(largo_palabra):\n",
    "            if i % 2 != 0: #Determina si es impar\n",
    "                pasos_dibujo[i] = 0\n",
    "                sumar_pasos = sum(pasos_dibujo) #Sumamos el contenido de la\n",
    "            if(sumar_pasos == 7):\n",
    "                break\n",
    "                \n",
    "    return pasos_dibujo\n",
    "\n",
    "    \n",
    "def jugar ():\n",
    "    imprimir_mensaje_inicial()\n",
    "    palabra_secreta=definir_palabra_secreta()\n",
    "    letras_acertadas=inicializar_letras_acertadas(palabra_secreta)\n",
    "    \n",
    "    ahorcado = False\n",
    "    acerto = False\n",
    "    errores=0   # contador de errorres\n",
    "    \n",
    "    pasos_dibujo = []\n",
    "    pasos_dibujo = calcular_iteraciones_dibujo(len(palabra_secreta), pasos_dibujo)\n",
    "    print(pasos_dibujo)\n",
    "    \n",
    "    print(letras_acertadas)\n",
    "    while ( not ahorcado and not acerto ):\n",
    "        entrada = leer_entrada()\n",
    "        if entrada in palabra_secreta:\n",
    "            marcar_entrada_correcta(entrada,palabra_secreta,letras_acertadas)  \n",
    "        else:\n",
    "            errores += 1\n",
    "            dibujar_ahorcado(errores)\n",
    "   \n",
    "        ahorcado=errores== medir_largo_palabra(palabra_secreta)\n",
    "        acerto= \"_\" not in letras_acertadas\n",
    "        print(letras_acertadas)       \n",
    "    if(acerto):\n",
    "        imprimir_mensaje_ganador()\n",
    "    else:\n",
    "        imprimir_mensaje_perdedor(palabra_secreta)\n",
    "    \n",
    "    \n",
    "if(__name__== \"__main__\"):\n",
    "    jugar()"
   ]
  },
  {
   "cell_type": "code",
   "execution_count": null,
   "metadata": {},
   "outputs": [],
   "source": []
  }
 ],
 "metadata": {
  "colab": {
   "provenance": []
  },
  "kernelspec": {
   "display_name": "Python 3 (ipykernel)",
   "language": "python",
   "name": "python3"
  },
  "language_info": {
   "codemirror_mode": {
    "name": "ipython",
    "version": 3
   },
   "file_extension": ".py",
   "mimetype": "text/x-python",
   "name": "python",
   "nbconvert_exporter": "python",
   "pygments_lexer": "ipython3",
   "version": "3.11.4"
  }
 },
 "nbformat": 4,
 "nbformat_minor": 1
}
