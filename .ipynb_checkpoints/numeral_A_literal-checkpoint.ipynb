{
 "cells": [
  {
   "cell_type": "code",
   "execution_count": 4,
   "metadata": {
    "colab": {
     "base_uri": "https://localhost:8080/"
    },
    "id": "RO1vu2FdyYlU",
    "outputId": "a4f9c6ee-42a0-442b-86b5-1bc14b9e7ca7"
   },
   "outputs": [
    {
     "name": "stdout",
     "output_type": "stream",
     "text": [
      "seiscientos sesenta y seis mil seiscientos sesenta y seis \n"
     ]
    }
   ],
   "source": [
    "\n",
    "cadena='666666'     #'345'\n",
    "digito=\"\";\n",
    "literal=\"\";\n",
    "indice=-1;\n",
    "unidades=[\"\",\"un \",\"dos \",\"tres \",\"cuatro \",\"cinco \",\"seis \",\"siete \",\"ocho \",\"nueve \"]\n",
    "dieces=[\"\",\"once \",\"doce \",\"trece \",\"catorce \",\"quince \",\"dieciseis \",\"diecisiete \",\"dieciocho \",\"diecinueve \"]\n",
    "decenas=[\"\",\"diez \",\"veinte \",\"treinta \",\"cuarenta \",\"cincuenta \",\"sesenta \",\"setenta \",\"ochenta \",\"noventa \"]\n",
    "centenas=[\"\",\"ciento \",\"doscientos \",\"trescientos \",\"cuatrocientos \",\"quinientos \",\"seiscientos \",\"setecientos \",\"ochocientos \",\"novecientos \"]\n",
    "\n",
    "i = 0\n",
    "while(i<len(cadena)):\n",
    "\n",
    "  digito = cadena[i]\n",
    "  indice= digito\n",
    "\n",
    "  if((len(cadena) -i == 1) or (len(cadena) -i == 4) or (len(cadena) -i == 7) ):  # ... unidades ...\n",
    "    if((len(cadena)>1) and (len(cadena)!= len(cadena) -i) and (digito !='0')):    # ... agrega y\n",
    "      literal = literal + \"y \"\n",
    "\n",
    "    literal = literal + unidades[int(indice)]\n",
    "\n",
    "\n",
    "  if((len(cadena) - i == 2) or (len(cadena) - i == 5) or (len(cadena) - i == 8) ):     # ... decenas y dieces ...\n",
    "    if((digito=='1') and (cadena[i+1] !='0')):\t   # ... dieces ...\n",
    "      digito = cadena[i+1]\n",
    "      indice = digito\n",
    "      literal=literal + dieces[int(indice)]\n",
    "      i = i + 1\n",
    "\n",
    "    else:\t\t\t\t\t\t\t\t\t\t#... decenas ...\n",
    "      literal = literal + decenas[int(indice)]\n",
    "\n",
    "  if((len(cadena) - i == 3) or (len(cadena) - i == 6) or (len(cadena) - i == 9)):   # ... centenas ...\n",
    "    if((digito=='1') and (cadena[i+1]=='0') and (cadena[i+2]=='0')):\t# ... cien ...\n",
    "      literal = literal + \" cien \"\n",
    "    else:\t\t\t\t\t\t\t##...centenas distintas de 100...\n",
    "      literal = literal + centenas[int(indice)]\n",
    "\n",
    "\n",
    "  if(len(cadena)-i  == 4):   # ... mil ...\n",
    "    if(len(cadena)  == 7 and cadena[1:3+1]!='000' ):\n",
    "      literal = literal + \"mil \"\n",
    "\n",
    "\n",
    "    if(len(cadena)  == 8 and cadena[2:3+2]!='000' ):\n",
    "      literal = literal + \"mil \"\n",
    "\n",
    "    if(len(cadena)  == 9 and cadena[3:3+3]!='000' ):\n",
    "      literal = literal + \"mil \"\n",
    "\n",
    "    if(len(cadena)<= 6 ):\n",
    "      literal = literal + \"mil \"\n",
    "\n",
    "\n",
    "\n",
    "  if((len(cadena)-i  == 7) and (digito=='1') and (len(cadena)  == 7)):   # ... millon  ...\n",
    "    literal = literal + \"millon \"\n",
    "\n",
    "\n",
    "  if((len(cadena)-i  == 7) and (digito!='1') ):   # ... millones  ...\n",
    "    literal = literal + \"millones \"\n",
    "\n",
    "\n",
    "  if((len(cadena)-i  == 7) and (digito=='1') and (len(cadena)  > 7)):   # ... millones  ...\n",
    "    literal = literal + \"millones \"\n",
    "\n",
    "\n",
    "  i = i + 1\n",
    "\n",
    "print(literal)\n",
    "\n",
    "\n"
   ]
  },
  {
   "cell_type": "code",
   "execution_count": 25,
   "metadata": {
    "colab": {
     "base_uri": "https://localhost:8080/"
    },
    "id": "AN9hCQfPgtqj",
    "outputId": "a682fffa-b31e-43ec-c9ea-c01e61e45148"
   },
   "outputs": [
    {
     "name": "stdout",
     "output_type": "stream",
     "text": [
      "000\n"
     ]
    }
   ],
   "source": [
    "cadena='990000000'\n",
    "print(cadena[2:3+2])"
   ]
  }
 ],
 "metadata": {
  "colab": {
   "provenance": []
  },
  "kernelspec": {
   "display_name": "Python 3",
   "name": "python3"
  },
  "language_info": {
   "name": "python"
  }
 },
 "nbformat": 4,
 "nbformat_minor": 0
}
